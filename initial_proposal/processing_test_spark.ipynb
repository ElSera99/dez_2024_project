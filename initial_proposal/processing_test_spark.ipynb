{
 "cells": [
  {
   "cell_type": "markdown",
   "id": "75da4fb9-42c1-43d8-98c4-5a0d85461919",
   "metadata": {},
   "source": [
    "# Download Data"
   ]
  },
  {
   "cell_type": "markdown",
   "id": "ca7c775e-0e73-4efc-b4f4-dbb649347b9f",
   "metadata": {},
   "source": [
    "### Test\n",
    "```\n",
    "mkdir bronze\n",
    "cd bronze\n",
    "mkdir v1.0-test_meta\n",
    "cd v1.0-trainval_meta\n",
    "wget https://d36yt3mvayqw5m.cloudfront.net/public/v1.0/v1.0-test_meta.tgz\n",
    "gunzip v1.0-test_meta.tgz\n",
    "tar -xf v1.0-test_meta.tar\n",
    "rm v1.0-test_meta.tar\n",
    "```"
   ]
  },
  {
   "cell_type": "markdown",
   "id": "77d50fa1-b1e0-41e3-83cc-25f08f5165ca",
   "metadata": {},
   "source": [
    "### Trainval\n",
    "```\n",
    "mkdir bronze\n",
    "cd bronze\n",
    "mkdir v1.0-trainval_meta\n",
    "cd v1.0-trainval_meta\n",
    "wget https://d36yt3mvayqw5m.cloudfront.net/public/v1.0/v1.0-trainval_meta.tgz\n",
    "gunzip v1.0-trainval_meta.tgz\n",
    "tar -xf v1.0-trainval_meta.tar\n",
    "rm v1.0-trainval_meta.tar\n",
    "```"
   ]
  },
  {
   "cell_type": "markdown",
   "id": "931a687c-4893-4bf3-b873-f787fc51f589",
   "metadata": {},
   "source": [
    "# Import Libraries"
   ]
  },
  {
   "cell_type": "code",
   "execution_count": 1,
   "id": "b50cf82e-e658-4fb0-b6ce-1cbe4b42a26c",
   "metadata": {},
   "outputs": [],
   "source": [
    "import pyspark\n",
    "from pyspark.sql import types\n",
    "from pyspark.sql import SparkSession\n",
    "from pyspark.sql import functions as F"
   ]
  },
  {
   "cell_type": "markdown",
   "id": "bd05b1da-6969-412a-97d6-bea861b598be",
   "metadata": {},
   "source": [
    "# Create SparkSession"
   ]
  },
  {
   "cell_type": "code",
   "execution_count": 2,
   "id": "812008af-3b13-4fe1-b72f-5192bfef38e8",
   "metadata": {},
   "outputs": [],
   "source": [
    "spark = SparkSession.builder \\\n",
    "    .master(\"local[*]\") \\\n",
    "    .appName('test') \\\n",
    "    .getOrCreate()"
   ]
  },
  {
   "cell_type": "markdown",
   "id": "6ad8925c-5751-4184-b14d-87ee54c14607",
   "metadata": {},
   "source": [
    "# Available files to read"
   ]
  },
  {
   "cell_type": "code",
   "execution_count": 3,
   "id": "83f69eab-eb45-47d4-b524-f1bbcb591a8f",
   "metadata": {},
   "outputs": [],
   "source": [
    "import glob"
   ]
  },
  {
   "cell_type": "code",
   "execution_count": 4,
   "id": "dd13e052-f6c3-491e-b648-43783cc6f6c4",
   "metadata": {},
   "outputs": [],
   "source": [
    "file_list_trainval = glob.glob('bronze\\\\v1.0-trainval_meta\\\\v1.0-trainval/*')\n",
    "file_list_test = glob.glob('bronze\\\\v1.0-test_meta\\\\v1.0-test/*')"
   ]
  },
  {
   "cell_type": "code",
   "execution_count": 5,
   "id": "4f1c1bf9-e378-46e1-9d33-dce1ffacab4b",
   "metadata": {},
   "outputs": [
    {
     "data": {
      "text/plain": [
       "['bronze\\\\v1.0-trainval_meta\\\\v1.0-trainval\\\\attribute.json',\n",
       " 'bronze\\\\v1.0-trainval_meta\\\\v1.0-trainval\\\\calibrated_sensor.json',\n",
       " 'bronze\\\\v1.0-trainval_meta\\\\v1.0-trainval\\\\category.json',\n",
       " 'bronze\\\\v1.0-trainval_meta\\\\v1.0-trainval\\\\ego_pose.json',\n",
       " 'bronze\\\\v1.0-trainval_meta\\\\v1.0-trainval\\\\instance.json',\n",
       " 'bronze\\\\v1.0-trainval_meta\\\\v1.0-trainval\\\\log.json',\n",
       " 'bronze\\\\v1.0-trainval_meta\\\\v1.0-trainval\\\\map.json',\n",
       " 'bronze\\\\v1.0-trainval_meta\\\\v1.0-trainval\\\\sample.json',\n",
       " 'bronze\\\\v1.0-trainval_meta\\\\v1.0-trainval\\\\sample_annotation.json',\n",
       " 'bronze\\\\v1.0-trainval_meta\\\\v1.0-trainval\\\\sample_data.json',\n",
       " 'bronze\\\\v1.0-trainval_meta\\\\v1.0-trainval\\\\scene.json',\n",
       " 'bronze\\\\v1.0-trainval_meta\\\\v1.0-trainval\\\\sensor.json',\n",
       " 'bronze\\\\v1.0-trainval_meta\\\\v1.0-trainval\\\\visibility.json']"
      ]
     },
     "execution_count": 5,
     "metadata": {},
     "output_type": "execute_result"
    }
   ],
   "source": [
    "file_list_trainval"
   ]
  },
  {
   "cell_type": "code",
   "execution_count": 6,
   "id": "a3ec91c2-26d3-49f1-8919-b8d7b15c48fd",
   "metadata": {},
   "outputs": [
    {
     "data": {
      "text/plain": [
       "['bronze\\\\v1.0-test_meta\\\\v1.0-test\\\\attribute.json',\n",
       " 'bronze\\\\v1.0-test_meta\\\\v1.0-test\\\\calibrated_sensor.json',\n",
       " 'bronze\\\\v1.0-test_meta\\\\v1.0-test\\\\category.json',\n",
       " 'bronze\\\\v1.0-test_meta\\\\v1.0-test\\\\ego_pose.json',\n",
       " 'bronze\\\\v1.0-test_meta\\\\v1.0-test\\\\instance.json',\n",
       " 'bronze\\\\v1.0-test_meta\\\\v1.0-test\\\\log.json',\n",
       " 'bronze\\\\v1.0-test_meta\\\\v1.0-test\\\\map.json',\n",
       " 'bronze\\\\v1.0-test_meta\\\\v1.0-test\\\\sample.json',\n",
       " 'bronze\\\\v1.0-test_meta\\\\v1.0-test\\\\sample_annotation.json',\n",
       " 'bronze\\\\v1.0-test_meta\\\\v1.0-test\\\\sample_data.json',\n",
       " 'bronze\\\\v1.0-test_meta\\\\v1.0-test\\\\scene.json',\n",
       " 'bronze\\\\v1.0-test_meta\\\\v1.0-test\\\\sensor.json',\n",
       " 'bronze\\\\v1.0-test_meta\\\\v1.0-test\\\\visibility.json']"
      ]
     },
     "execution_count": 6,
     "metadata": {},
     "output_type": "execute_result"
    }
   ],
   "source": [
    "file_list_test"
   ]
  },
  {
   "cell_type": "markdown",
   "id": "0885287b-e3e9-436d-8acc-9b98d593ffc8",
   "metadata": {},
   "source": [
    "# How to read JSON files with PySpark"
   ]
  },
  {
   "cell_type": "code",
   "execution_count": 7,
   "id": "d68978c8-7ace-4940-a756-db91fa4b3488",
   "metadata": {},
   "outputs": [],
   "source": [
    "df_category = spark.read.option(\"multiline\", True).json(\"bronze\\\\v1.0-test_meta\\\\v1.0-test\\\\category.json\")"
   ]
  },
  {
   "cell_type": "code",
   "execution_count": 8,
   "id": "0d933ac9-ed80-4bb2-b07a-eebaef95158f",
   "metadata": {},
   "outputs": [
    {
     "name": "stdout",
     "output_type": "stream",
     "text": [
      "+--------------------+--------------------+--------------------+\n",
      "|         description|                name|               token|\n",
      "+--------------------+--------------------+--------------------+\n",
      "|  Adult subcategory.|human.pedestrian....|1fa93b757fc74fb19...|\n",
      "|  Child subcategory.|human.pedestrian....|b1c6de4c57f14a538...|\n",
      "|Wheelchairs. If a...|human.pedestrian....|b2d7c6c701254928a...|\n",
      "|Strollers. If a p...|human.pedestrian....|6a5888777ca14867a...|\n",
      "|A small electric ...|human.pedestrian....|403fede16c8842688...|\n",
      "|     Police officer.|human.pedestrian....|bb867e20640142798...|\n",
      "| Construction worker|human.pedestrian....|909f1237d34a49d6b...|\n",
      "|All animals, e.g....|              animal|63a94dfa99bb47529...|\n",
      "|Vehicle designed ...|         vehicle.car|fd69059b62a3469fb...|\n",
      "|Gasoline or elect...|  vehicle.motorcycle|dfd26f200ade4d24b...|\n",
      "|Human or electric...|     vehicle.bicycle|fc95c87b806f48f8a...|\n",
      "|Bendy bus subcate...|   vehicle.bus.bendy|003edbfb9ca849ee8...|\n",
      "|Rigid bus subcate...|   vehicle.bus.rigid|fedb11688db840888...|\n",
      "|Vehicles primaril...|       vehicle.truck|6021b5187b924d64b...|\n",
      "|Vehicles primaril...|vehicle.construction|5b3cd6f2bca64b83a...|\n",
      "|All types of ambu...|vehicle.emergency...|732cce86872640628...|\n",
      "|All types of poli...|vehicle.emergency...|7b2ff083a64e4d538...|\n",
      "|Any vehicle trail...|     vehicle.trailer|90d0f6f8e7c749149...|\n",
      "|Temporary road ba...|movable_object.ba...|653f7efbb9514ce7b...|\n",
      "|All types of traf...|movable_object.tr...|85abebdccd4d46c7b...|\n",
      "+--------------------+--------------------+--------------------+\n",
      "only showing top 20 rows\n",
      "\n"
     ]
    }
   ],
   "source": [
    "df_category.show()"
   ]
  },
  {
   "cell_type": "code",
   "execution_count": 9,
   "id": "70df865b-bdaa-44e6-b25c-a03be1fd06d4",
   "metadata": {},
   "outputs": [],
   "source": [
    "df_visibility = spark.read.option(\"multiline\", True).json(\"bronze\\\\v1.0-test_meta\\\\v1.0-test\\\\visibility.json\")"
   ]
  },
  {
   "cell_type": "markdown",
   "id": "bb9658a3-4414-4001-a7bf-a1c71ed52193",
   "metadata": {},
   "source": [
    "# Create schema with PySpark"
   ]
  },
  {
   "cell_type": "markdown",
   "id": "510f240c-6d3c-4ce3-84ca-59f76b709485",
   "metadata": {},
   "source": [
    "## Schemas"
   ]
  },
  {
   "cell_type": "markdown",
   "id": "4cefe7f3-3771-47d9-9e24-525144448825",
   "metadata": {},
   "source": [
    "How to create a schema:\n",
    "```python\n",
    "from pyspark.sql import types\n",
    "\n",
    "schema = types.StructType([\n",
    "    types.StructField('hour', types.TimestampType(), True),\n",
    "    types.StructField('zone', types.IntegerType(), True),\n",
    "    types.StructField('revenue', types.DoubleType(), True),\n",
    "    types.StructField('count', types.IntegerType(), True)\n",
    "])\n",
    "```"
   ]
  },
  {
   "cell_type": "code",
   "execution_count": 10,
   "id": "6dc7d6e2-8689-4d6c-a139-47f2eaa8de4b",
   "metadata": {},
   "outputs": [],
   "source": [
    "schema_log = types.StructType([\n",
    "    types.StructField('token', types.StringType(), True),\n",
    "    types.StructField('logfile', types.StringType(), True),\n",
    "    types.StructField('vehicle', types.StringType(), True),\n",
    "    types.StructField('date_captured', types.DateType(), True),\n",
    "    types.StructField('location', types.StringType(), True)\n",
    "])"
   ]
  },
  {
   "cell_type": "code",
   "execution_count": 11,
   "id": "4c7df918-7d8a-464e-b724-49109e98f1f7",
   "metadata": {},
   "outputs": [],
   "source": [
    "schema_scene = types.StructType([\n",
    "    types.StructField('token', types.StringType(), True),\n",
    "    types.StructField('log_token', types.StringType(), True),\n",
    "    types.StructField('nbr_samples', types.IntegerType(), True),\n",
    "    types.StructField('first_sample_token', types.StringType(), True),\n",
    "    types.StructField('last_sample_token', types.StringType(), True),\n",
    "    types.StructField('name', types.StringType(), True),\n",
    "    types.StructField('description', types.StringType(), True)\n",
    "])"
   ]
  },
  {
   "cell_type": "code",
   "execution_count": 12,
   "id": "333751af-10fb-49c9-bf97-7ef1053cbc90",
   "metadata": {},
   "outputs": [],
   "source": [
    "schema_sample = types.StructType([\n",
    "    types.StructField('token', types.StringType(), True),\n",
    "    types.StructField('timestamp', types.TimestampType(), True),\n",
    "    types.StructField('prev', types.StringType(), True),\n",
    "    types.StructField('next', types.StringType(), True),\n",
    "    types.StructField('scene_token', types.StringType(), True)\n",
    "])"
   ]
  },
  {
   "cell_type": "code",
   "execution_count": 13,
   "id": "3c9781af-b598-466b-b6c1-d09954f2c4bb",
   "metadata": {},
   "outputs": [],
   "source": [
    "schema_sample_data = types.StructType([\n",
    "    types.StructField('token', types.StringType(), True),\n",
    "    types.StructField('sample_token', types.StringType(), True),\n",
    "    types.StructField('ego_pose_token', types.StringType(), True),\n",
    "    types.StructField('calibrated_sensor_token', types.StringType(), True),\n",
    "    types.StructField('timestamp', types.TimestampType(), True),\n",
    "    types.StructField('fileformat', types.StringType(), True),\n",
    "    types.StructField('is_key_frame', types.BooleanType(), True),\n",
    "    types.StructField('height', types.IntegerType(), True),\n",
    "    types.StructField('width', types.IntegerType(), True),\n",
    "    types.StructField('filename', types.StringType(), True),\n",
    "    types.StructField('prev', types.StringType(), True),\n",
    "    types.StructField('next', types.StringType(), True)\n",
    "])"
   ]
  },
  {
   "cell_type": "code",
   "execution_count": 14,
   "id": "e80ce53b-6b19-4a9f-b461-291ea9525309",
   "metadata": {},
   "outputs": [],
   "source": [
    "schema_sample_annotation = types.StructType([\n",
    "    types.StructField('token', types.StringType(), True),\n",
    "    types.StructField('sample_token', types.StringType(), True),\n",
    "    types.StructField('instance_token', types.StringType(), True),\n",
    "    types.StructField('visibility_token', types.DecimalType(), True),\n",
    "    types.StructField('attribute_tokens', types.StringType(), True),\n",
    "    types.StructField('translation', types.StringType(), True),\n",
    "    types.StructField('size', types.StringType(), True),\n",
    "    types.StructField('rotation', types.StringType(), True),\n",
    "    types.StructField('prev', types.StringType(), True),\n",
    "    types.StructField('next', types.StringType(), True),\n",
    "    types.StructField('num_lidar_pts', types.IntegerType(), True),\n",
    "    types.StructField('num_radar_pts', types.IntegerType(), True)\n",
    "])"
   ]
  },
  {
   "cell_type": "code",
   "execution_count": 15,
   "id": "dd04e841-cfa9-4260-975f-7efd526f6019",
   "metadata": {},
   "outputs": [],
   "source": [
    "schema_instance = types.StructType([\n",
    "    types.StructField('token', types.StringType(), True),\n",
    "    types.StructField('category_token', types.StringType(), True),\n",
    "    types.StructField('nbr_annotations', types.IntegerType(), True),\n",
    "    types.StructField('first_annotation_token', types.StringType(), True),\n",
    "    types.StructField('last_annotation_token', types.StringType(), True)\n",
    "])"
   ]
  },
  {
   "cell_type": "markdown",
   "id": "330da4f6-ae28-41f5-ad77-f4ea862a5160",
   "metadata": {},
   "source": [
    "## Read JSON files with defined Schema"
   ]
  },
  {
   "cell_type": "markdown",
   "id": "4459f386-a0cf-4ac1-97f7-1fdf4f19625e",
   "metadata": {},
   "source": [
    "### Trainval"
   ]
  },
  {
   "cell_type": "code",
   "execution_count": 16,
   "id": "bf4bfd6c-cbeb-4ba7-819b-a8a65c42e9e8",
   "metadata": {},
   "outputs": [
    {
     "data": {
      "text/plain": [
       "['bronze\\\\v1.0-trainval_meta\\\\v1.0-trainval\\\\attribute.json',\n",
       " 'bronze\\\\v1.0-trainval_meta\\\\v1.0-trainval\\\\calibrated_sensor.json',\n",
       " 'bronze\\\\v1.0-trainval_meta\\\\v1.0-trainval\\\\category.json',\n",
       " 'bronze\\\\v1.0-trainval_meta\\\\v1.0-trainval\\\\ego_pose.json',\n",
       " 'bronze\\\\v1.0-trainval_meta\\\\v1.0-trainval\\\\instance.json',\n",
       " 'bronze\\\\v1.0-trainval_meta\\\\v1.0-trainval\\\\log.json',\n",
       " 'bronze\\\\v1.0-trainval_meta\\\\v1.0-trainval\\\\map.json',\n",
       " 'bronze\\\\v1.0-trainval_meta\\\\v1.0-trainval\\\\sample.json',\n",
       " 'bronze\\\\v1.0-trainval_meta\\\\v1.0-trainval\\\\sample_annotation.json',\n",
       " 'bronze\\\\v1.0-trainval_meta\\\\v1.0-trainval\\\\sample_data.json',\n",
       " 'bronze\\\\v1.0-trainval_meta\\\\v1.0-trainval\\\\scene.json',\n",
       " 'bronze\\\\v1.0-trainval_meta\\\\v1.0-trainval\\\\sensor.json',\n",
       " 'bronze\\\\v1.0-trainval_meta\\\\v1.0-trainval\\\\visibility.json']"
      ]
     },
     "execution_count": 16,
     "metadata": {},
     "output_type": "execute_result"
    }
   ],
   "source": [
    "file_list_trainval"
   ]
  },
  {
   "cell_type": "code",
   "execution_count": 17,
   "id": "cbaf2134-ad0b-4e82-810d-a7728df13687",
   "metadata": {},
   "outputs": [],
   "source": [
    "df_log_trainval = spark.read.option(\"multiline\", True).schema(schema_log).json('bronze\\\\v1.0-trainval_meta\\\\v1.0-trainval\\\\log.json')\n",
    "df_scene_trainval = spark.read.option(\"multiline\", True).schema(schema_scene).json('bronze\\\\v1.0-trainval_meta\\\\v1.0-trainval\\\\scene.json')\n",
    "df_sample_trainval = spark.read.option(\"multiline\", True).schema(schema_sample).json('bronze\\\\v1.0-trainval_meta\\\\v1.0-trainval\\\\sample.json')\n",
    "df_sample_data_trainval = spark.read.option(\"multiline\", True).schema(schema_sample_data).json('bronze\\\\v1.0-trainval_meta\\\\v1.0-trainval\\\\sample_data.json')\n",
    "df_sample_annotation_trainval = spark.read.option(\"multiline\", True).schema(schema_sample_annotation).json('bronze\\\\v1.0-trainval_meta\\\\v1.0-trainval\\\\sample_annotation.json')\n",
    "df_instance_trainval = spark.read.option(\"multiline\", True).schema(schema_instance).json('bronze\\\\v1.0-trainval_meta\\\\v1.0-trainval\\\\instance.json')"
   ]
  },
  {
   "cell_type": "markdown",
   "id": "48237add-cd29-4ea4-b68b-94e001885e31",
   "metadata": {},
   "source": [
    "### Test"
   ]
  },
  {
   "cell_type": "code",
   "execution_count": 18,
   "id": "ae514872-cf18-4296-a6d0-49489dea7341",
   "metadata": {},
   "outputs": [
    {
     "data": {
      "text/plain": [
       "['bronze\\\\v1.0-test_meta\\\\v1.0-test\\\\attribute.json',\n",
       " 'bronze\\\\v1.0-test_meta\\\\v1.0-test\\\\calibrated_sensor.json',\n",
       " 'bronze\\\\v1.0-test_meta\\\\v1.0-test\\\\category.json',\n",
       " 'bronze\\\\v1.0-test_meta\\\\v1.0-test\\\\ego_pose.json',\n",
       " 'bronze\\\\v1.0-test_meta\\\\v1.0-test\\\\instance.json',\n",
       " 'bronze\\\\v1.0-test_meta\\\\v1.0-test\\\\log.json',\n",
       " 'bronze\\\\v1.0-test_meta\\\\v1.0-test\\\\map.json',\n",
       " 'bronze\\\\v1.0-test_meta\\\\v1.0-test\\\\sample.json',\n",
       " 'bronze\\\\v1.0-test_meta\\\\v1.0-test\\\\sample_annotation.json',\n",
       " 'bronze\\\\v1.0-test_meta\\\\v1.0-test\\\\sample_data.json',\n",
       " 'bronze\\\\v1.0-test_meta\\\\v1.0-test\\\\scene.json',\n",
       " 'bronze\\\\v1.0-test_meta\\\\v1.0-test\\\\sensor.json',\n",
       " 'bronze\\\\v1.0-test_meta\\\\v1.0-test\\\\visibility.json']"
      ]
     },
     "execution_count": 18,
     "metadata": {},
     "output_type": "execute_result"
    }
   ],
   "source": [
    "file_list_test"
   ]
  },
  {
   "cell_type": "code",
   "execution_count": 19,
   "id": "379f478a-bee4-4167-b838-ec865f735f3a",
   "metadata": {},
   "outputs": [],
   "source": [
    "df_log_test = spark.read.option(\"multiline\", True).schema(schema_log).json('bronze\\\\v1.0-test_meta\\\\v1.0-test\\\\log.json')\n",
    "df_scene_test = spark.read.option(\"multiline\", True).schema(schema_scene).json('bronze\\\\v1.0-test_meta\\\\v1.0-test\\\\scene.json')\n",
    "df_sample_test = spark.read.option(\"multiline\", True).schema(schema_sample).json('bronze\\\\v1.0-test_meta\\\\v1.0-test\\\\sample.json')\n",
    "df_sample_data_test = spark.read.option(\"multiline\", True).schema(schema_sample_data).json('bronze\\\\v1.0-test_meta\\\\v1.0-test\\\\sample_data.json')\n",
    "df_sample_annotation_test = spark.read.option(\"multiline\", True).schema(schema_sample_annotation).json('bronze\\\\v1.0-test_meta\\\\v1.0-test\\\\sample_annotation.json')\n",
    "df_instance_test = spark.read.option(\"multiline\", True).schema(schema_instance).json('bronze\\\\v1.0-test_meta\\\\v1.0-test\\\\instance.json')"
   ]
  },
  {
   "cell_type": "code",
   "execution_count": 20,
   "id": "c2403b42-d6d1-4660-8236-dfd32c629d6d",
   "metadata": {},
   "outputs": [],
   "source": [
    "df_log = df_log_trainval.union(df_log_test)\n",
    "df_scene = df_scene_trainval.union(df_scene_test)\n",
    "df_sample = df_sample_trainval.union(df_sample_test)\n",
    "df_sample_data = df_sample_data_trainval.union(df_sample_data_test)\n",
    "df_sample_annotation = df_sample_annotation_trainval.union(df_sample_annotation_test)\n",
    "df_instance = df_instance_trainval.union(df_instance_test)"
   ]
  },
  {
   "cell_type": "markdown",
   "id": "6ad974a8-c520-4dd1-a3b9-765a60cadeba",
   "metadata": {},
   "source": [
    "# Clean Data with PySpark - Silver"
   ]
  },
  {
   "cell_type": "code",
   "execution_count": 21,
   "id": "246379e2-9668-40f5-b3a5-125bcd12a483",
   "metadata": {},
   "outputs": [],
   "source": [
    "df_log = df_log.select('token', 'logfile', 'vehicle','location')"
   ]
  },
  {
   "cell_type": "code",
   "execution_count": 22,
   "id": "4070c1a6-9b45-4cce-959b-59c483355b06",
   "metadata": {},
   "outputs": [],
   "source": [
    "df_scene = df_scene.select('token','log_token','name','description')"
   ]
  },
  {
   "cell_type": "code",
   "execution_count": 23,
   "id": "16df0c95-f2c7-4605-aeb3-e4ad18740e86",
   "metadata": {},
   "outputs": [],
   "source": [
    "df_sample = df_sample.select('token', 'timestamp','scene_token')"
   ]
  },
  {
   "cell_type": "code",
   "execution_count": 24,
   "id": "6dfa8206-90c5-44d3-9c20-6d5ed31e6d3b",
   "metadata": {},
   "outputs": [],
   "source": [
    "df_sample_data = df_sample_data.select('sample_token','ego_pose_token','timestamp','is_key_frame','filename')"
   ]
  },
  {
   "cell_type": "code",
   "execution_count": 25,
   "id": "694fee94-7118-4844-8f4f-be40654f0a20",
   "metadata": {},
   "outputs": [],
   "source": [
    "df_sample_annotation = df_sample_annotation.select('sample_token','instance_token','visibility_token','attribute_tokens')"
   ]
  },
  {
   "cell_type": "code",
   "execution_count": 26,
   "id": "453af8a2-dc74-4ec0-9e1b-d686e42a1db7",
   "metadata": {},
   "outputs": [],
   "source": [
    "df_instance = df_instance.select('token','category_token','nbr_annotations')"
   ]
  },
  {
   "cell_type": "markdown",
   "id": "f015e615-7f04-444c-8fdf-1a683975fb8f",
   "metadata": {},
   "source": [
    "## Store as Parquet(CSV for test)"
   ]
  },
  {
   "cell_type": "code",
   "execution_count": 27,
   "id": "6f57265e-a44f-47e6-8902-7ecb0a4d8582",
   "metadata": {},
   "outputs": [],
   "source": [
    "# df_log.write.mode('overwrite').option(\"header\",True).csv(\"silver/sources/log/log.csv\")\n",
    "# df_log.write.partitionBy(\"vehicle\").mode('overwrite').parquet(\"silver/sources/log/\")"
   ]
  },
  {
   "cell_type": "code",
   "execution_count": 28,
   "id": "c1d6ffe0-642b-4c85-bc62-6238b1be9b9a",
   "metadata": {},
   "outputs": [],
   "source": [
    "# df_scene.write.mode('overwrite').option(\"header\",True).csv(\"silver/sources/scene/scene.csv\")\n",
    "# df_scene.write.partitionBy(\"name\").mode('overwrite').parquet(\"silver/sources/scene/\")"
   ]
  },
  {
   "cell_type": "code",
   "execution_count": 29,
   "id": "fffa594c-4a7b-4346-847a-7f0b1caf7a8d",
   "metadata": {},
   "outputs": [],
   "source": [
    "# df_sample.write.mode('overwrite').option(\"header\",True).csv(\"silver/sources/sample/sample.csv\")\n",
    "# df_sample.coalesce(10).write.mode('overwrite').parquet(\"silver/sources/sample/\")"
   ]
  },
  {
   "cell_type": "code",
   "execution_count": 30,
   "id": "b3e75315-94d7-4a2f-be12-037de64169bb",
   "metadata": {},
   "outputs": [],
   "source": [
    "# df_sample_data.write.mode('overwrite').option(\"header\",True).csv(\"silver/sources/sample_data/sample_data.csv\")\n",
    "# df_sample_data.write.partitionBy(\"sample_token\").mode('overwrite').parquet(\"silver/sources/sample_data/\")"
   ]
  },
  {
   "cell_type": "code",
   "execution_count": 31,
   "id": "255ec79f-3242-48a2-bf0a-3f5bddd6c5a9",
   "metadata": {},
   "outputs": [],
   "source": [
    "# df_sample_annotation.write.mode('overwrite').option(\"header\",True).csv(\"silver/sources/sample_data_annotation/sample_data_annotation.csv\")\n",
    "# df_sample_annotation.write.partitionBy(\"sample_token\").mode('overwrite').parquet(\"silver/sources/sample_annotation/\")"
   ]
  },
  {
   "cell_type": "code",
   "execution_count": 32,
   "id": "f8eccbbe-72dd-4158-bfeb-9cd6008ac9a6",
   "metadata": {},
   "outputs": [],
   "source": [
    "# df_instance.write.mode('overwrite').option(\"header\",True).csv(\"silver/sources/instance/instance.csv\")\n",
    "# df_instance.write.partitionBy(\"category_token\").mode('overwrite').parquet(\"silver/sources/instance/\")"
   ]
  },
  {
   "cell_type": "markdown",
   "id": "32a8e9bf-256f-45b0-8538-04046c113928",
   "metadata": {},
   "source": [
    "# Clean Data with PySpark - Gold"
   ]
  },
  {
   "cell_type": "code",
   "execution_count": 33,
   "id": "6c4b0571-391f-486c-bf2f-6af1b52af3a8",
   "metadata": {},
   "outputs": [
    {
     "ename": "NameError",
     "evalue": "name 'df' is not defined",
     "output_type": "error",
     "traceback": [
      "\u001b[1;31m---------------------------------------------------------------------------\u001b[0m",
      "\u001b[1;31mNameError\u001b[0m                                 Traceback (most recent call last)",
      "Cell \u001b[1;32mIn[33], line 1\u001b[0m\n\u001b[1;32m----> 1\u001b[0m df_sample_data\u001b[38;5;241m.\u001b[39mfilter(\u001b[43mdf\u001b[49m\u001b[38;5;241m.\u001b[39mis_key_frame \u001b[38;5;241m==\u001b[39m \u001b[38;5;28;01mTrue\u001b[39;00m)\u001b[38;5;241m.\u001b[39mlimit(\u001b[38;5;241m2\u001b[39m)\u001b[38;5;241m.\u001b[39mshow()\n",
      "\u001b[1;31mNameError\u001b[0m: name 'df' is not defined"
     ]
    }
   ],
   "source": [
    "df_sample_data.filter(df.is_key_frame == True).limit(2).show()"
   ]
  },
  {
   "cell_type": "code",
   "execution_count": null,
   "id": "284fc847-b746-4719-bb17-1a272baf5c4e",
   "metadata": {},
   "outputs": [],
   "source": []
  },
  {
   "cell_type": "code",
   "execution_count": null,
   "id": "bd409d5e-1a64-48d0-8d15-a4ee337fab19",
   "metadata": {},
   "outputs": [],
   "source": []
  },
  {
   "cell_type": "code",
   "execution_count": null,
   "id": "4495bff3-8896-41fe-86c2-4706c3699a37",
   "metadata": {},
   "outputs": [],
   "source": []
  },
  {
   "cell_type": "code",
   "execution_count": null,
   "id": "71c980ef-ecdd-46b2-b9a7-b92f768b55bb",
   "metadata": {},
   "outputs": [],
   "source": []
  },
  {
   "cell_type": "code",
   "execution_count": null,
   "id": "14d028ff-f9e3-4506-89e7-e6558dd8c7e6",
   "metadata": {},
   "outputs": [],
   "source": [
    "spark.stop()"
   ]
  },
  {
   "cell_type": "code",
   "execution_count": null,
   "id": "a26b99ec-4497-4822-83f7-4b5ae1aeafab",
   "metadata": {},
   "outputs": [],
   "source": []
  }
 ],
 "metadata": {
  "kernelspec": {
   "display_name": "Python 3 (ipykernel)",
   "language": "python",
   "name": "python3"
  },
  "language_info": {
   "codemirror_mode": {
    "name": "ipython",
    "version": 3
   },
   "file_extension": ".py",
   "mimetype": "text/x-python",
   "name": "python",
   "nbconvert_exporter": "python",
   "pygments_lexer": "ipython3",
   "version": "3.8.10"
  }
 },
 "nbformat": 4,
 "nbformat_minor": 5
}
