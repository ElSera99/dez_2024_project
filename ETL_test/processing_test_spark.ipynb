{
 "cells": [
  {
   "cell_type": "markdown",
   "id": "75da4fb9-42c1-43d8-98c4-5a0d85461919",
   "metadata": {},
   "source": [
    "# Download Data"
   ]
  },
  {
   "cell_type": "markdown",
   "id": "ca7c775e-0e73-4efc-b4f4-dbb649347b9f",
   "metadata": {},
   "source": [
    "### Test\n",
    "```\n",
    "mkdir bronze\n",
    "cd bronze\n",
    "mkdir v1.0-test_meta\n",
    "cd v1.0-trainval_meta\n",
    "wget https://d36yt3mvayqw5m.cloudfront.net/public/v1.0/v1.0-test_meta.tgz\n",
    "gunzip v1.0-test_meta.tgz\n",
    "tar -xf v1.0-test_meta.tar\n",
    "rm v1.0-test_meta.tar\n",
    "```"
   ]
  },
  {
   "cell_type": "markdown",
   "id": "77d50fa1-b1e0-41e3-83cc-25f08f5165ca",
   "metadata": {},
   "source": [
    "### Trainval\n",
    "```\n",
    "mkdir bronze\n",
    "cd bronze\n",
    "mkdir v1.0-trainval_meta\n",
    "cd v1.0-trainval_meta\n",
    "wget https://d36yt3mvayqw5m.cloudfront.net/public/v1.0/v1.0-trainval_meta.tgz\n",
    "gunzip v1.0-trainval_meta.tgz\n",
    "tar -xf v1.0-trainval_meta.tar\n",
    "rm v1.0-trainval_meta.tar\n",
    "```"
   ]
  },
  {
   "cell_type": "markdown",
   "id": "931a687c-4893-4bf3-b873-f787fc51f589",
   "metadata": {},
   "source": [
    "# Import Libraries"
   ]
  },
  {
   "cell_type": "code",
   "execution_count": 1,
   "id": "b50cf82e-e658-4fb0-b6ce-1cbe4b42a26c",
   "metadata": {},
   "outputs": [],
   "source": [
    "import pyspark\n",
    "from pyspark.sql import types\n",
    "from pyspark.sql import SparkSession\n",
    "from pyspark.sql import functions as F\n",
    "from pyspark.conf import SparkConf\n",
    "from pyspark.context import SparkContext"
   ]
  },
  {
   "cell_type": "markdown",
   "id": "bd05b1da-6969-412a-97d6-bea861b598be",
   "metadata": {},
   "source": [
    "# Create SparkSession"
   ]
  },
  {
   "cell_type": "code",
   "execution_count": 2,
   "id": "cdf17b15-856d-496c-ba26-501808e99161",
   "metadata": {},
   "outputs": [
    {
     "name": "stderr",
     "output_type": "stream",
     "text": [
      "Setting default log level to \"WARN\".\n",
      "To adjust logging level use sc.setLogLevel(newLevel). For SparkR, use setLogLevel(newLevel).\n"
     ]
    },
    {
     "name": "stdout",
     "output_type": "stream",
     "text": [
      "24/04/23 01:02:47 WARN NativeCodeLoader: Unable to load native-hadoop library for your platform... using builtin-java classes where applicable\n"
     ]
    }
   ],
   "source": [
    "conf = SparkConf() \\\n",
    "    .setMaster('local[*]') \\\n",
    "    .setAppName('test') \\\n",
    "    .set(\"spark.sql.legacy.parquet.int96RebaseModeInRead\", \"CORRECTED\") \\\n",
    "    .set(\"spark.sql.legacy.parquet.int96RebaseModeInWrite\", \"CORRECTED\") \\\n",
    "    .set(\"spark.sql.legacy.parquet.datetimeRebaseModeInRead\", \"CORRECTED\") \\\n",
    "    .set(\"spark.sql.legacy.parquet.datetimeRebaseModeInWrite\", \"CORRECTED\") \\\n",
    "    .set(\"spark.driver.memory\", \"16g\")\n",
    "\n",
    "sc = SparkContext(conf=conf)"
   ]
  },
  {
   "cell_type": "code",
   "execution_count": 3,
   "id": "1afdf097-106c-4b6e-8217-8b3cdc4b818b",
   "metadata": {},
   "outputs": [],
   "source": [
    "spark = SparkSession.builder \\\n",
    "    .config(conf=sc.getConf()) \\\n",
    "    .getOrCreate()"
   ]
  },
  {
   "cell_type": "markdown",
   "id": "6ad8925c-5751-4184-b14d-87ee54c14607",
   "metadata": {},
   "source": [
    "# Available files to read"
   ]
  },
  {
   "cell_type": "code",
   "execution_count": 4,
   "id": "83f69eab-eb45-47d4-b524-f1bbcb591a8f",
   "metadata": {},
   "outputs": [],
   "source": [
    "import glob"
   ]
  },
  {
   "cell_type": "code",
   "execution_count": 5,
   "id": "dd13e052-f6c3-491e-b648-43783cc6f6c4",
   "metadata": {},
   "outputs": [],
   "source": [
    "file_list_trainval = glob.glob('bronze/v1.0-trainval_meta/v1.0-trainval/*')\n",
    "file_list_test = glob.glob('bronze/v1.0-test_meta/v1.0-test/*')"
   ]
  },
  {
   "cell_type": "code",
   "execution_count": 6,
   "id": "4f1c1bf9-e378-46e1-9d33-dce1ffacab4b",
   "metadata": {},
   "outputs": [
    {
     "data": {
      "text/plain": [
       "['bronze/v1.0-trainval_meta/v1.0-trainval/sample_annotation.json',\n",
       " 'bronze/v1.0-trainval_meta/v1.0-trainval/map.json',\n",
       " 'bronze/v1.0-trainval_meta/v1.0-trainval/attribute.json',\n",
       " 'bronze/v1.0-trainval_meta/v1.0-trainval/sample.json',\n",
       " 'bronze/v1.0-trainval_meta/v1.0-trainval/visibility.json',\n",
       " 'bronze/v1.0-trainval_meta/v1.0-trainval/ego_pose.json',\n",
       " 'bronze/v1.0-trainval_meta/v1.0-trainval/instance.json',\n",
       " 'bronze/v1.0-trainval_meta/v1.0-trainval/sensor.json',\n",
       " 'bronze/v1.0-trainval_meta/v1.0-trainval/log.json',\n",
       " 'bronze/v1.0-trainval_meta/v1.0-trainval/sample_data.json',\n",
       " 'bronze/v1.0-trainval_meta/v1.0-trainval/category.json',\n",
       " 'bronze/v1.0-trainval_meta/v1.0-trainval/scene.json',\n",
       " 'bronze/v1.0-trainval_meta/v1.0-trainval/calibrated_sensor.json']"
      ]
     },
     "execution_count": 6,
     "metadata": {},
     "output_type": "execute_result"
    }
   ],
   "source": [
    "file_list_trainval"
   ]
  },
  {
   "cell_type": "code",
   "execution_count": 7,
   "id": "a3ec91c2-26d3-49f1-8919-b8d7b15c48fd",
   "metadata": {},
   "outputs": [
    {
     "data": {
      "text/plain": [
       "['bronze/v1.0-test_meta/v1.0-test/sample_annotation.json',\n",
       " 'bronze/v1.0-test_meta/v1.0-test/map.json',\n",
       " 'bronze/v1.0-test_meta/v1.0-test/attribute.json',\n",
       " 'bronze/v1.0-test_meta/v1.0-test/sample.json',\n",
       " 'bronze/v1.0-test_meta/v1.0-test/visibility.json',\n",
       " 'bronze/v1.0-test_meta/v1.0-test/ego_pose.json',\n",
       " 'bronze/v1.0-test_meta/v1.0-test/instance.json',\n",
       " 'bronze/v1.0-test_meta/v1.0-test/sensor.json',\n",
       " 'bronze/v1.0-test_meta/v1.0-test/log.json',\n",
       " 'bronze/v1.0-test_meta/v1.0-test/sample_data.json',\n",
       " 'bronze/v1.0-test_meta/v1.0-test/category.json',\n",
       " 'bronze/v1.0-test_meta/v1.0-test/scene.json',\n",
       " 'bronze/v1.0-test_meta/v1.0-test/calibrated_sensor.json']"
      ]
     },
     "execution_count": 7,
     "metadata": {},
     "output_type": "execute_result"
    }
   ],
   "source": [
    "file_list_test"
   ]
  },
  {
   "cell_type": "markdown",
   "id": "0885287b-e3e9-436d-8acc-9b98d593ffc8",
   "metadata": {},
   "source": [
    "# How to read JSON files with PySpark"
   ]
  },
  {
   "cell_type": "code",
   "execution_count": 8,
   "id": "d68978c8-7ace-4940-a756-db91fa4b3488",
   "metadata": {},
   "outputs": [],
   "source": [
    "# df_category = spark.read.option(\"multiline\", True).json(\"bronze\\\\v1.0-test_meta\\\\v1.0-test\\\\category.json\")"
   ]
  },
  {
   "cell_type": "code",
   "execution_count": 9,
   "id": "0d933ac9-ed80-4bb2-b07a-eebaef95158f",
   "metadata": {},
   "outputs": [],
   "source": [
    "# df_category.show()"
   ]
  },
  {
   "cell_type": "code",
   "execution_count": 10,
   "id": "70df865b-bdaa-44e6-b25c-a03be1fd06d4",
   "metadata": {},
   "outputs": [],
   "source": [
    "# df_visibility = spark.read.option(\"multiline\", True).json(\"bronze\\\\v1.0-test_meta\\\\v1.0-test\\\\visibility.json\")"
   ]
  },
  {
   "cell_type": "markdown",
   "id": "bb9658a3-4414-4001-a7bf-a1c71ed52193",
   "metadata": {},
   "source": [
    "# Create schema with PySpark"
   ]
  },
  {
   "cell_type": "markdown",
   "id": "510f240c-6d3c-4ce3-84ca-59f76b709485",
   "metadata": {},
   "source": [
    "## Schemas"
   ]
  },
  {
   "cell_type": "markdown",
   "id": "4cefe7f3-3771-47d9-9e24-525144448825",
   "metadata": {},
   "source": [
    "How to create a schema:\n",
    "```python\n",
    "from pyspark.sql import types\n",
    "\n",
    "schema = types.StructType([\n",
    "    types.StructField('hour', types.TimestampType(), True),\n",
    "    types.StructField('zone', types.IntegerType(), True),\n",
    "    types.StructField('revenue', types.DoubleType(), True),\n",
    "    types.StructField('count', types.IntegerType(), True)\n",
    "])\n",
    "```"
   ]
  },
  {
   "cell_type": "code",
   "execution_count": 11,
   "id": "6dc7d6e2-8689-4d6c-a139-47f2eaa8de4b",
   "metadata": {},
   "outputs": [],
   "source": [
    "schema_log = types.StructType([\n",
    "    types.StructField('token', types.StringType(), True),\n",
    "    types.StructField('logfile', types.StringType(), True),\n",
    "    types.StructField('vehicle', types.StringType(), True),\n",
    "    types.StructField('date_captured', types.DateType(), True),\n",
    "    types.StructField('location', types.StringType(), True)\n",
    "])"
   ]
  },
  {
   "cell_type": "code",
   "execution_count": 12,
   "id": "4c7df918-7d8a-464e-b724-49109e98f1f7",
   "metadata": {},
   "outputs": [],
   "source": [
    "schema_scene = types.StructType([\n",
    "    types.StructField('token', types.StringType(), True),\n",
    "    types.StructField('log_token', types.StringType(), True),\n",
    "    types.StructField('nbr_samples', types.IntegerType(), True),\n",
    "    types.StructField('first_sample_token', types.StringType(), True),\n",
    "    types.StructField('last_sample_token', types.StringType(), True),\n",
    "    types.StructField('name', types.StringType(), True),\n",
    "    types.StructField('description', types.StringType(), True)\n",
    "])"
   ]
  },
  {
   "cell_type": "code",
   "execution_count": 13,
   "id": "333751af-10fb-49c9-bf97-7ef1053cbc90",
   "metadata": {},
   "outputs": [],
   "source": [
    "schema_sample = types.StructType([\n",
    "    types.StructField('token', types.StringType(), True),\n",
    "    types.StructField('timestamp', types.TimestampType(), True),\n",
    "    types.StructField('prev', types.StringType(), True),\n",
    "    types.StructField('next', types.StringType(), True),\n",
    "    types.StructField('scene_token', types.StringType(), True)\n",
    "])"
   ]
  },
  {
   "cell_type": "code",
   "execution_count": 14,
   "id": "3c9781af-b598-466b-b6c1-d09954f2c4bb",
   "metadata": {},
   "outputs": [],
   "source": [
    "schema_sample_data = types.StructType([\n",
    "    types.StructField('token', types.StringType(), True),\n",
    "    types.StructField('sample_token', types.StringType(), True),\n",
    "    types.StructField('ego_pose_token', types.StringType(), True),\n",
    "    types.StructField('calibrated_sensor_token', types.StringType(), True),\n",
    "    types.StructField('timestamp', types.TimestampType(), True),\n",
    "    types.StructField('fileformat', types.StringType(), True),\n",
    "    types.StructField('is_key_frame', types.BooleanType(), True),\n",
    "    types.StructField('height', types.IntegerType(), True),\n",
    "    types.StructField('width', types.IntegerType(), True),\n",
    "    types.StructField('filename', types.StringType(), True),\n",
    "    types.StructField('prev', types.StringType(), True),\n",
    "    types.StructField('next', types.StringType(), True)\n",
    "])"
   ]
  },
  {
   "cell_type": "code",
   "execution_count": 15,
   "id": "e80ce53b-6b19-4a9f-b461-291ea9525309",
   "metadata": {},
   "outputs": [],
   "source": [
    "schema_sample_annotation = types.StructType([\n",
    "    types.StructField('token', types.StringType(), True),\n",
    "    types.StructField('sample_token', types.StringType(), True),\n",
    "    types.StructField('instance_token', types.StringType(), True),\n",
    "    types.StructField('visibility_token', types.DecimalType(), True),\n",
    "    types.StructField('attribute_tokens', types.StringType(), True),\n",
    "    types.StructField('translation', types.StringType(), True),\n",
    "    types.StructField('size', types.StringType(), True),\n",
    "    types.StructField('rotation', types.StringType(), True),\n",
    "    types.StructField('prev', types.StringType(), True),\n",
    "    types.StructField('next', types.StringType(), True),\n",
    "    types.StructField('num_lidar_pts', types.IntegerType(), True),\n",
    "    types.StructField('num_radar_pts', types.IntegerType(), True)\n",
    "])"
   ]
  },
  {
   "cell_type": "code",
   "execution_count": 16,
   "id": "dd04e841-cfa9-4260-975f-7efd526f6019",
   "metadata": {},
   "outputs": [],
   "source": [
    "schema_instance = types.StructType([\n",
    "    types.StructField('token', types.StringType(), True),\n",
    "    types.StructField('category_token', types.StringType(), True),\n",
    "    types.StructField('nbr_annotations', types.IntegerType(), True),\n",
    "    types.StructField('first_annotation_token', types.StringType(), True),\n",
    "    types.StructField('last_annotation_token', types.StringType(), True)\n",
    "])"
   ]
  },
  {
   "cell_type": "markdown",
   "id": "330da4f6-ae28-41f5-ad77-f4ea862a5160",
   "metadata": {},
   "source": [
    "## Read JSON files with defined Schema"
   ]
  },
  {
   "cell_type": "markdown",
   "id": "4459f386-a0cf-4ac1-97f7-1fdf4f19625e",
   "metadata": {},
   "source": [
    "### Trainval"
   ]
  },
  {
   "cell_type": "code",
   "execution_count": 17,
   "id": "bf4bfd6c-cbeb-4ba7-819b-a8a65c42e9e8",
   "metadata": {},
   "outputs": [
    {
     "data": {
      "text/plain": [
       "['bronze/v1.0-trainval_meta/v1.0-trainval/sample_annotation.json',\n",
       " 'bronze/v1.0-trainval_meta/v1.0-trainval/map.json',\n",
       " 'bronze/v1.0-trainval_meta/v1.0-trainval/attribute.json',\n",
       " 'bronze/v1.0-trainval_meta/v1.0-trainval/sample.json',\n",
       " 'bronze/v1.0-trainval_meta/v1.0-trainval/visibility.json',\n",
       " 'bronze/v1.0-trainval_meta/v1.0-trainval/ego_pose.json',\n",
       " 'bronze/v1.0-trainval_meta/v1.0-trainval/instance.json',\n",
       " 'bronze/v1.0-trainval_meta/v1.0-trainval/sensor.json',\n",
       " 'bronze/v1.0-trainval_meta/v1.0-trainval/log.json',\n",
       " 'bronze/v1.0-trainval_meta/v1.0-trainval/sample_data.json',\n",
       " 'bronze/v1.0-trainval_meta/v1.0-trainval/category.json',\n",
       " 'bronze/v1.0-trainval_meta/v1.0-trainval/scene.json',\n",
       " 'bronze/v1.0-trainval_meta/v1.0-trainval/calibrated_sensor.json']"
      ]
     },
     "execution_count": 17,
     "metadata": {},
     "output_type": "execute_result"
    }
   ],
   "source": [
    "file_list_trainval"
   ]
  },
  {
   "cell_type": "code",
   "execution_count": 18,
   "id": "cbaf2134-ad0b-4e82-810d-a7728df13687",
   "metadata": {},
   "outputs": [
    {
     "name": "stdout",
     "output_type": "stream",
     "text": [
      "24/04/23 01:02:48 WARN SQLConf: The SQL config 'spark.sql.legacy.parquet.int96RebaseModeInWrite' has been deprecated in Spark v3.2 and may be removed in the future. Use 'spark.sql.parquet.int96RebaseModeInWrite' instead.\n",
      "24/04/23 01:02:48 WARN SQLConf: The SQL config 'spark.sql.legacy.parquet.datetimeRebaseModeInRead' has been deprecated in Spark v3.2 and may be removed in the future. Use 'spark.sql.parquet.datetimeRebaseModeInRead' instead.\n",
      "24/04/23 01:02:48 WARN SQLConf: The SQL config 'spark.sql.legacy.parquet.int96RebaseModeInRead' has been deprecated in Spark v3.2 and may be removed in the future. Use 'spark.sql.parquet.int96RebaseModeInRead' instead.\n",
      "24/04/23 01:02:48 WARN SQLConf: The SQL config 'spark.sql.legacy.parquet.datetimeRebaseModeInWrite' has been deprecated in Spark v3.2 and may be removed in the future. Use 'spark.sql.parquet.datetimeRebaseModeInWrite' instead.\n",
      "24/04/23 01:02:48 WARN SQLConf: The SQL config 'spark.sql.legacy.parquet.int96RebaseModeInWrite' has been deprecated in Spark v3.2 and may be removed in the future. Use 'spark.sql.parquet.int96RebaseModeInWrite' instead.\n",
      "24/04/23 01:02:48 WARN SQLConf: The SQL config 'spark.sql.legacy.parquet.datetimeRebaseModeInWrite' has been deprecated in Spark v3.2 and may be removed in the future. Use 'spark.sql.parquet.datetimeRebaseModeInWrite' instead.\n",
      "24/04/23 01:02:48 WARN SQLConf: The SQL config 'spark.sql.legacy.parquet.int96RebaseModeInRead' has been deprecated in Spark v3.2 and may be removed in the future. Use 'spark.sql.parquet.int96RebaseModeInRead' instead.\n",
      "24/04/23 01:02:48 WARN SQLConf: The SQL config 'spark.sql.legacy.parquet.datetimeRebaseModeInRead' has been deprecated in Spark v3.2 and may be removed in the future. Use 'spark.sql.parquet.datetimeRebaseModeInRead' instead.\n",
      "24/04/23 01:02:48 WARN SQLConf: The SQL config 'spark.sql.legacy.parquet.int96RebaseModeInWrite' has been deprecated in Spark v3.2 and may be removed in the future. Use 'spark.sql.parquet.int96RebaseModeInWrite' instead.\n",
      "24/04/23 01:02:48 WARN SQLConf: The SQL config 'spark.sql.legacy.parquet.datetimeRebaseModeInWrite' has been deprecated in Spark v3.2 and may be removed in the future. Use 'spark.sql.parquet.datetimeRebaseModeInWrite' instead.\n",
      "24/04/23 01:02:48 WARN SQLConf: The SQL config 'spark.sql.legacy.parquet.int96RebaseModeInRead' has been deprecated in Spark v3.2 and may be removed in the future. Use 'spark.sql.parquet.int96RebaseModeInRead' instead.\n",
      "24/04/23 01:02:48 WARN SQLConf: The SQL config 'spark.sql.legacy.parquet.datetimeRebaseModeInRead' has been deprecated in Spark v3.2 and may be removed in the future. Use 'spark.sql.parquet.datetimeRebaseModeInRead' instead.\n"
     ]
    }
   ],
   "source": [
    "df_log_trainval = spark.read.option(\"multiline\", True).schema(schema_log).json('bronze/v1.0-trainval_meta/v1.0-trainval/log.json')\n",
    "df_scene_trainval = spark.read.option(\"multiline\", True).schema(schema_scene).json('bronze/v1.0-trainval_meta/v1.0-trainval/scene.json')\n",
    "df_sample_trainval = spark.read.option(\"multiline\", True).schema(schema_sample).json('bronze/v1.0-trainval_meta/v1.0-trainval/sample.json')\n",
    "df_sample_data_trainval = spark.read.option(\"multiline\", True).schema(schema_sample_data).json('bronze/v1.0-trainval_meta/v1.0-trainval/sample_data.json')\n",
    "df_sample_annotation_trainval = spark.read.option(\"multiline\", True).schema(schema_sample_annotation).json('bronze/v1.0-trainval_meta/v1.0-trainval/sample_annotation.json')\n",
    "df_instance_trainval = spark.read.option(\"multiline\", True).schema(schema_instance).json('bronze/v1.0-trainval_meta/v1.0-trainval/instance.json')"
   ]
  },
  {
   "cell_type": "markdown",
   "id": "48237add-cd29-4ea4-b68b-94e001885e31",
   "metadata": {},
   "source": [
    "### Test"
   ]
  },
  {
   "cell_type": "code",
   "execution_count": 19,
   "id": "ae514872-cf18-4296-a6d0-49489dea7341",
   "metadata": {},
   "outputs": [
    {
     "data": {
      "text/plain": [
       "['bronze/v1.0-test_meta/v1.0-test/sample_annotation.json',\n",
       " 'bronze/v1.0-test_meta/v1.0-test/map.json',\n",
       " 'bronze/v1.0-test_meta/v1.0-test/attribute.json',\n",
       " 'bronze/v1.0-test_meta/v1.0-test/sample.json',\n",
       " 'bronze/v1.0-test_meta/v1.0-test/visibility.json',\n",
       " 'bronze/v1.0-test_meta/v1.0-test/ego_pose.json',\n",
       " 'bronze/v1.0-test_meta/v1.0-test/instance.json',\n",
       " 'bronze/v1.0-test_meta/v1.0-test/sensor.json',\n",
       " 'bronze/v1.0-test_meta/v1.0-test/log.json',\n",
       " 'bronze/v1.0-test_meta/v1.0-test/sample_data.json',\n",
       " 'bronze/v1.0-test_meta/v1.0-test/category.json',\n",
       " 'bronze/v1.0-test_meta/v1.0-test/scene.json',\n",
       " 'bronze/v1.0-test_meta/v1.0-test/calibrated_sensor.json']"
      ]
     },
     "execution_count": 19,
     "metadata": {},
     "output_type": "execute_result"
    }
   ],
   "source": [
    "file_list_test"
   ]
  },
  {
   "cell_type": "code",
   "execution_count": 20,
   "id": "379f478a-bee4-4167-b838-ec865f735f3a",
   "metadata": {},
   "outputs": [],
   "source": [
    "df_log_test = spark.read.option(\"multiline\", True).schema(schema_log).json('bronze/v1.0-test_meta/v1.0-test/log.json')\n",
    "df_scene_test = spark.read.option(\"multiline\", True).schema(schema_scene).json('bronze/v1.0-test_meta/v1.0-test/scene.json')\n",
    "df_sample_test = spark.read.option(\"multiline\", True).schema(schema_sample).json('bronze/v1.0-test_meta/v1.0-test/sample.json')\n",
    "df_sample_data_test = spark.read.option(\"multiline\", True).schema(schema_sample_data).json('bronze/v1.0-test_meta/v1.0-test/sample_data.json')\n",
    "df_sample_annotation_test = spark.read.option(\"multiline\", True).schema(schema_sample_annotation).json('bronze/v1.0-test_meta/v1.0-test/sample_annotation.json')\n",
    "df_instance_test = spark.read.option(\"multiline\", True).schema(schema_instance).json('bronze/v1.0-test_meta/v1.0-test/instance.json')"
   ]
  },
  {
   "cell_type": "code",
   "execution_count": 21,
   "id": "c2403b42-d6d1-4660-8236-dfd32c629d6d",
   "metadata": {},
   "outputs": [],
   "source": [
    "df_log = df_log_trainval.union(df_log_test)\n",
    "df_scene = df_scene_trainval.union(df_scene_test)\n",
    "df_sample = df_sample_trainval.union(df_sample_test)\n",
    "df_sample_data = df_sample_data_trainval.union(df_sample_data_test)\n",
    "df_sample_annotation = df_sample_annotation_trainval.union(df_sample_annotation_test)\n",
    "df_instance = df_instance_trainval.union(df_instance_test)"
   ]
  },
  {
   "cell_type": "markdown",
   "id": "6ad974a8-c520-4dd1-a3b9-765a60cadeba",
   "metadata": {},
   "source": [
    "# Clean Data with PySpark - Silver"
   ]
  },
  {
   "cell_type": "code",
   "execution_count": 22,
   "id": "246379e2-9668-40f5-b3a5-125bcd12a483",
   "metadata": {},
   "outputs": [],
   "source": [
    "df_log = df_log.select('token', 'logfile', 'vehicle','location')"
   ]
  },
  {
   "cell_type": "code",
   "execution_count": 23,
   "id": "4070c1a6-9b45-4cce-959b-59c483355b06",
   "metadata": {},
   "outputs": [],
   "source": [
    "df_scene = df_scene.select('token','log_token','name','description').withColumnRenamed('name', 'scene_name')"
   ]
  },
  {
   "cell_type": "code",
   "execution_count": 24,
   "id": "16df0c95-f2c7-4605-aeb3-e4ad18740e86",
   "metadata": {},
   "outputs": [],
   "source": [
    "df_sample = df_sample.select('token', 'timestamp','scene_token').withColumnRenamed('timestamp', 'timestamp_sample')"
   ]
  },
  {
   "cell_type": "code",
   "execution_count": 25,
   "id": "6dfa8206-90c5-44d3-9c20-6d5ed31e6d3b",
   "metadata": {},
   "outputs": [],
   "source": [
    "df_sample_data = df_sample_data.select('sample_token','ego_pose_token','timestamp','is_key_frame','filename').withColumnRenamed('timestamp', 'timestamp_sample_data')"
   ]
  },
  {
   "cell_type": "code",
   "execution_count": 26,
   "id": "694fee94-7118-4844-8f4f-be40654f0a20",
   "metadata": {},
   "outputs": [],
   "source": [
    "df_sample_annotation = df_sample_annotation.select('sample_token','instance_token','visibility_token','attribute_tokens')"
   ]
  },
  {
   "cell_type": "code",
   "execution_count": 27,
   "id": "453af8a2-dc74-4ec0-9e1b-d686e42a1db7",
   "metadata": {},
   "outputs": [],
   "source": [
    "df_instance = df_instance.select('token','category_token','nbr_annotations')"
   ]
  },
  {
   "cell_type": "markdown",
   "id": "f015e615-7f04-444c-8fdf-1a683975fb8f",
   "metadata": {},
   "source": [
    "## Store as Parquet(CSV for test)"
   ]
  },
  {
   "cell_type": "code",
   "execution_count": 28,
   "id": "6f57265e-a44f-47e6-8902-7ecb0a4d8582",
   "metadata": {},
   "outputs": [
    {
     "name": "stderr",
     "output_type": "stream",
     "text": [
      "                                                                                \r"
     ]
    }
   ],
   "source": [
    "# df_log.write.mode('overwrite').option(\"header\",True).csv(\"silver/sources/log/log.csv\")\n",
    "df_log.write.partitionBy(\"vehicle\").mode('overwrite').parquet(\"silver/sources/log/\")"
   ]
  },
  {
   "cell_type": "code",
   "execution_count": 29,
   "id": "c1d6ffe0-642b-4c85-bc62-6238b1be9b9a",
   "metadata": {},
   "outputs": [],
   "source": [
    "# df_scene.write.mode('overwrite').option(\"header\",True).csv(\"silver/sources/scene/scene.csv\")\n",
    "df_scene.coalesce(10).write.mode('overwrite').parquet(\"silver/sources/scene/\")"
   ]
  },
  {
   "cell_type": "code",
   "execution_count": 30,
   "id": "fffa594c-4a7b-4346-847a-7f0b1caf7a8d",
   "metadata": {},
   "outputs": [],
   "source": [
    "# df_sample.write.mode('overwrite').option(\"header\",True).csv(\"silver/sources/sample/sample.csv\")\n",
    "df_sample.write.mode('overwrite').parquet(\"silver/sources/sample/\")"
   ]
  },
  {
   "cell_type": "code",
   "execution_count": 31,
   "id": "b3e75315-94d7-4a2f-be12-037de64169bb",
   "metadata": {},
   "outputs": [
    {
     "name": "stderr",
     "output_type": "stream",
     "text": [
      "                                                                                \r"
     ]
    }
   ],
   "source": [
    "# df_sample_data.write.mode('overwrite').option(\"header\",True).csv(\"silver/sources/sample_data/sample_data.csv\")\n",
    "df_sample_data.coalesce(10).write.mode('overwrite').parquet(\"silver/sources/sample_data/\")"
   ]
  },
  {
   "cell_type": "code",
   "execution_count": 32,
   "id": "255ec79f-3242-48a2-bf0a-3f5bddd6c5a9",
   "metadata": {},
   "outputs": [
    {
     "name": "stderr",
     "output_type": "stream",
     "text": [
      "                                                                                \r"
     ]
    }
   ],
   "source": [
    "# df_sample_annotation.write.mode('overwrite').option(\"header\",True).csv(\"silver/sources/sample_data_annotation/sample_data_annotation.csv\")\n",
    "df_sample_annotation.write.mode('overwrite').parquet(\"silver/sources/sample_annotation/\")"
   ]
  },
  {
   "cell_type": "code",
   "execution_count": 33,
   "id": "f8eccbbe-72dd-4158-bfeb-9cd6008ac9a6",
   "metadata": {},
   "outputs": [
    {
     "name": "stderr",
     "output_type": "stream",
     "text": [
      "                                                                                \r"
     ]
    }
   ],
   "source": [
    "# df_instance.write.mode('overwrite').option(\"header\",True).csv(\"silver/sources/instance/instance.csv\")\n",
    "df_instance.write.partitionBy(\"category_token\").mode('overwrite').parquet(\"silver/sources/instance/\")"
   ]
  },
  {
   "cell_type": "markdown",
   "id": "32a8e9bf-256f-45b0-8538-04046c113928",
   "metadata": {},
   "source": [
    "# Clean Data with PySpark - Gold"
   ]
  },
  {
   "cell_type": "markdown",
   "id": "8f5cc778-1532-449c-991b-e9db12c900db",
   "metadata": {},
   "source": [
    "## Samples"
   ]
  },
  {
   "cell_type": "code",
   "execution_count": 34,
   "id": "6c4b0571-391f-486c-bf2f-6af1b52af3a8",
   "metadata": {},
   "outputs": [],
   "source": [
    "df_samples_join_1 = df_sample_data.filter(df_sample_data.is_key_frame == True) \\\n",
    "            .join(df_sample, df_sample_data.sample_token == df_sample.token, 'inner') \\\n",
    "            .drop('token')"
   ]
  },
  {
   "cell_type": "code",
   "execution_count": 35,
   "id": "b9958c30-cebc-4cf3-a2c0-e045dfb17452",
   "metadata": {},
   "outputs": [],
   "source": [
    "df_samples_join_2 = df_samples_join_1.join(df_scene, df_samples_join_1.scene_token == df_scene.token, 'inner') \\\n",
    "                .drop('token')"
   ]
  },
  {
   "cell_type": "code",
   "execution_count": 36,
   "id": "b4077d7b-e71c-4445-871a-035ff1a3a65a",
   "metadata": {},
   "outputs": [],
   "source": [
    "df_samples_join_3 = df_samples_join_2.join(df_log, df_samples_join_2.log_token == df_log.token, 'inner') \\\n",
    "                .drop('token')"
   ]
  },
  {
   "cell_type": "code",
   "execution_count": 37,
   "id": "8b648286-9f89-4641-a15b-8c8218602423",
   "metadata": {},
   "outputs": [],
   "source": [
    "samples = df_samples_join_3.select('sample_token',\n",
    "                                  'logfile',\n",
    "                                  'vehicle', \n",
    "                                  'location', \n",
    "                                  'scene_name', \n",
    "                                  'description',\n",
    "                                  'timestamp_sample_data',\n",
    "                                  'ego_pose_token')"
   ]
  },
  {
   "cell_type": "code",
   "execution_count": 38,
   "id": "c0f736ff-d64f-4af0-850e-9afdf149dae1",
   "metadata": {},
   "outputs": [
    {
     "name": "stdout",
     "output_type": "stream",
     "text": [
      "root\n",
      " |-- sample_token: string (nullable = true)\n",
      " |-- logfile: string (nullable = true)\n",
      " |-- vehicle: string (nullable = true)\n",
      " |-- location: string (nullable = true)\n",
      " |-- scene_name: string (nullable = true)\n",
      " |-- description: string (nullable = true)\n",
      " |-- timestamp_sample_data: timestamp (nullable = true)\n",
      " |-- ego_pose_token: string (nullable = true)\n",
      "\n"
     ]
    }
   ],
   "source": [
    "samples.printSchema()"
   ]
  },
  {
   "cell_type": "code",
   "execution_count": 39,
   "id": "284fc847-b746-4719-bb17-1a272baf5c4e",
   "metadata": {},
   "outputs": [
    {
     "name": "stderr",
     "output_type": "stream",
     "text": [
      "[Stage 9:>                                                          (0 + 1) / 1]\r"
     ]
    },
    {
     "name": "stdout",
     "output_type": "stream",
     "text": [
      "-RECORD 0--------------------------------------------------------------\n",
      " sample_token          | e93e98b63d3b40209056d129dc53ceee              \n",
      " logfile               | n015-2018-07-18-11-07-57+0800                 \n",
      " vehicle               | n015                                          \n",
      " location              | singapore-onenorth                            \n",
      " scene_name            | scene-0001                                    \n",
      " description           | Construction, maneuver between several trucks \n",
      " timestamp_sample_data | +27440-07-13 09:34:45.215872                  \n",
      " ego_pose_token        | bddd80ae33ec4e32b27fdb3c1160a30e              \n",
      "-RECORD 1--------------------------------------------------------------\n",
      " sample_token          | 14d5adfe50bb4445bc3aa5fe607691a8              \n",
      " logfile               | n015-2018-07-18-11-07-57+0800                 \n",
      " vehicle               | n015                                          \n",
      " location              | singapore-onenorth                            \n",
      " scene_name            | scene-0001                                    \n",
      " description           | Construction, maneuver between several trucks \n",
      " timestamp_sample_data | +27440-07-19 10:03:16.215872                  \n",
      " ego_pose_token        | eaf2d8843bda419a8cd6ea8f028a51f1              \n",
      "only showing top 2 rows\n",
      "\n"
     ]
    },
    {
     "name": "stderr",
     "output_type": "stream",
     "text": [
      "                                                                                \r"
     ]
    }
   ],
   "source": [
    "samples.show(2,truncate=False, vertical=True)"
   ]
  },
  {
   "cell_type": "code",
   "execution_count": 40,
   "id": "c3556185-41a5-47cc-99f9-da532dbed606",
   "metadata": {},
   "outputs": [
    {
     "name": "stderr",
     "output_type": "stream",
     "text": [
      "                                                                                \r"
     ]
    }
   ],
   "source": [
    "samples.write.partitionBy(\"vehicle\").mode('overwrite').parquet(\"gold/samples/\")"
   ]
  },
  {
   "cell_type": "markdown",
   "id": "158436df-fd2c-4d28-ac83-a25ab6786b37",
   "metadata": {},
   "source": [
    "## Objects"
   ]
  },
  {
   "cell_type": "code",
   "execution_count": 41,
   "id": "cd6e83a0-853b-41a5-b896-07828a957294",
   "metadata": {},
   "outputs": [],
   "source": [
    "df_category = spark.read.parquet(\"silver/seeds/category.parquet\")\n",
    "df_visibility = spark.read.parquet(\"silver/seeds/visibility.parquet\")"
   ]
  },
  {
   "cell_type": "code",
   "execution_count": 42,
   "id": "759f6420-5106-4e98-bd19-37ab0d3d4c46",
   "metadata": {},
   "outputs": [],
   "source": [
    "df_objects_join_1 = df_sample_annotation.join(df_instance, df_sample_annotation.instance_token == df_instance.token,'inner') \\\n",
    "                    .drop('token', 'instance_token')"
   ]
  },
  {
   "cell_type": "code",
   "execution_count": 43,
   "id": "144c3560-b711-4c45-8b5f-8ab0766116b3",
   "metadata": {},
   "outputs": [],
   "source": [
    "df_objects_join_2 = df_objects_join_1.join(df_category, df_objects_join_1.category_token == df_category.uid, 'inner') \\\n",
    "                    .withColumnRenamed('description', 'category_description') \\\n",
    "                    .drop('uid', 'category_token')"
   ]
  },
  {
   "cell_type": "code",
   "execution_count": 44,
   "id": "d0ef3da4-e800-4bcf-95fe-0a22d349113c",
   "metadata": {},
   "outputs": [],
   "source": [
    "objects = df_objects_join_2.join(df_visibility, df_objects_join_2.visibility_token == df_visibility.uid, 'inner') \\\n",
    "                    .drop('uid', 'visibility_token', 'description', 'attribute_tokens')"
   ]
  },
  {
   "cell_type": "code",
   "execution_count": 45,
   "id": "4106568a-e3fb-4376-b129-49d6915d4e99",
   "metadata": {},
   "outputs": [
    {
     "name": "stderr",
     "output_type": "stream",
     "text": [
      "                                                                                \r"
     ]
    }
   ],
   "source": [
    "objects.write.partitionBy(\"object\").mode('overwrite').parquet(\"gold/objects/\")"
   ]
  },
  {
   "cell_type": "code",
   "execution_count": 47,
   "id": "a26b99ec-4497-4822-83f7-4b5ae1aeafab",
   "metadata": {},
   "outputs": [],
   "source": [
    "spark.stop()"
   ]
  },
  {
   "cell_type": "code",
   "execution_count": null,
   "id": "9743dd06-0f95-439c-8b40-f1562badad44",
   "metadata": {},
   "outputs": [],
   "source": []
  }
 ],
 "metadata": {
  "kernelspec": {
   "display_name": "Python 3 (ipykernel)",
   "language": "python",
   "name": "python3"
  },
  "language_info": {
   "codemirror_mode": {
    "name": "ipython",
    "version": 3
   },
   "file_extension": ".py",
   "mimetype": "text/x-python",
   "name": "python",
   "nbconvert_exporter": "python",
   "pygments_lexer": "ipython3",
   "version": "3.8.10"
  }
 },
 "nbformat": 4,
 "nbformat_minor": 5
}
