{
 "cells": [
  {
   "cell_type": "markdown",
   "id": "75da4fb9-42c1-43d8-98c4-5a0d85461919",
   "metadata": {},
   "source": [
    "# Download Data"
   ]
  },
  {
   "cell_type": "markdown",
   "id": "b32c9c12-e885-45a6-9dd8-ec293d0dc5d5",
   "metadata": {},
   "source": [
    "!mkdir bronze/"
   ]
  },
  {
   "cell_type": "markdown",
   "id": "f78d0d42-d05e-4d2d-87d1-9d9fd13765d5",
   "metadata": {},
   "source": [
    "!curl -O --url https://d36yt3mvayqw5m.cloudfront.net/public/v1.0/v1.0-test_meta.tgz"
   ]
  },
  {
   "cell_type": "markdown",
   "id": "b8c8e4fa-4ffb-485c-bac4-cc66c9feaaa4",
   "metadata": {},
   "source": [
    "!curl -O --url https://d36yt3mvayqw5m.cloudfront.net/public/v1.0/v1.0-trainval_meta.tgz"
   ]
  },
  {
   "cell_type": "markdown",
   "id": "6ad8925c-5751-4184-b14d-87ee54c14607",
   "metadata": {},
   "source": [
    "# Available files to read"
   ]
  },
  {
   "cell_type": "code",
   "execution_count": 4,
   "id": "83f69eab-eb45-47d4-b524-f1bbcb591a8f",
   "metadata": {},
   "outputs": [],
   "source": [
    "import glob"
   ]
  },
  {
   "cell_type": "code",
   "execution_count": 5,
   "id": "dd13e052-f6c3-491e-b648-43783cc6f6c4",
   "metadata": {},
   "outputs": [],
   "source": [
    "file_list_trainval = glob.glob('bronze\\\\v1.0-trainval_meta\\\\v1.0-trainval/*')\n",
    "file_list_test = glob.glob('bronze\\\\v1.0-test_meta\\\\v1.0-test/*')"
   ]
  },
  {
   "cell_type": "code",
   "execution_count": 6,
   "id": "4f1c1bf9-e378-46e1-9d33-dce1ffacab4b",
   "metadata": {},
   "outputs": [
    {
     "data": {
      "text/plain": [
       "['bronze\\\\v1.0-trainval_meta\\\\v1.0-trainval\\\\attribute.json',\n",
       " 'bronze\\\\v1.0-trainval_meta\\\\v1.0-trainval\\\\calibrated_sensor.json',\n",
       " 'bronze\\\\v1.0-trainval_meta\\\\v1.0-trainval\\\\category.json',\n",
       " 'bronze\\\\v1.0-trainval_meta\\\\v1.0-trainval\\\\ego_pose.json',\n",
       " 'bronze\\\\v1.0-trainval_meta\\\\v1.0-trainval\\\\instance.json',\n",
       " 'bronze\\\\v1.0-trainval_meta\\\\v1.0-trainval\\\\log.json',\n",
       " 'bronze\\\\v1.0-trainval_meta\\\\v1.0-trainval\\\\map.json',\n",
       " 'bronze\\\\v1.0-trainval_meta\\\\v1.0-trainval\\\\sample.json',\n",
       " 'bronze\\\\v1.0-trainval_meta\\\\v1.0-trainval\\\\sample_annotation.json',\n",
       " 'bronze\\\\v1.0-trainval_meta\\\\v1.0-trainval\\\\sample_data.json',\n",
       " 'bronze\\\\v1.0-trainval_meta\\\\v1.0-trainval\\\\scene.json',\n",
       " 'bronze\\\\v1.0-trainval_meta\\\\v1.0-trainval\\\\sensor.json',\n",
       " 'bronze\\\\v1.0-trainval_meta\\\\v1.0-trainval\\\\visibility.json']"
      ]
     },
     "execution_count": 6,
     "metadata": {},
     "output_type": "execute_result"
    }
   ],
   "source": [
    "file_list_trainval"
   ]
  },
  {
   "cell_type": "code",
   "execution_count": 7,
   "id": "a3ec91c2-26d3-49f1-8919-b8d7b15c48fd",
   "metadata": {},
   "outputs": [
    {
     "data": {
      "text/plain": [
       "['bronze\\\\v1.0-test_meta\\\\v1.0-test\\\\attribute.json',\n",
       " 'bronze\\\\v1.0-test_meta\\\\v1.0-test\\\\calibrated_sensor.json',\n",
       " 'bronze\\\\v1.0-test_meta\\\\v1.0-test\\\\category.json',\n",
       " 'bronze\\\\v1.0-test_meta\\\\v1.0-test\\\\ego_pose.json',\n",
       " 'bronze\\\\v1.0-test_meta\\\\v1.0-test\\\\instance.json',\n",
       " 'bronze\\\\v1.0-test_meta\\\\v1.0-test\\\\log.json',\n",
       " 'bronze\\\\v1.0-test_meta\\\\v1.0-test\\\\map.json',\n",
       " 'bronze\\\\v1.0-test_meta\\\\v1.0-test\\\\sample.json',\n",
       " 'bronze\\\\v1.0-test_meta\\\\v1.0-test\\\\sample_annotation.json',\n",
       " 'bronze\\\\v1.0-test_meta\\\\v1.0-test\\\\sample_data.json',\n",
       " 'bronze\\\\v1.0-test_meta\\\\v1.0-test\\\\scene.json',\n",
       " 'bronze\\\\v1.0-test_meta\\\\v1.0-test\\\\sensor.json',\n",
       " 'bronze\\\\v1.0-test_meta\\\\v1.0-test\\\\visibility.json']"
      ]
     },
     "execution_count": 7,
     "metadata": {},
     "output_type": "execute_result"
    }
   ],
   "source": [
    "file_list_test"
   ]
  },
  {
   "cell_type": "markdown",
   "id": "18a1d21e-0550-4c31-a19f-36e76b406eeb",
   "metadata": {},
   "source": [
    "# Modify and store seeds"
   ]
  },
  {
   "cell_type": "markdown",
   "id": "3dfff4a4-5237-4956-ba95-c9825b8f6106",
   "metadata": {},
   "source": [
    "Already identified seeds\n",
    "- Category\n",
    "- Visibility"
   ]
  },
  {
   "cell_type": "markdown",
   "id": "865f5a23-2fdf-4b64-b091-e23495b9e5f9",
   "metadata": {},
   "source": [
    "## Modify"
   ]
  },
  {
   "cell_type": "code",
   "execution_count": 13,
   "id": "3d4fe740-f98c-4864-a8e4-2683cb626049",
   "metadata": {},
   "outputs": [],
   "source": [
    "import pandas as pd"
   ]
  },
  {
   "cell_type": "markdown",
   "id": "0218eda9-ad9d-4597-90af-1e521d117e98",
   "metadata": {},
   "source": [
    "### Category"
   ]
  },
  {
   "cell_type": "code",
   "execution_count": 14,
   "id": "9d96a515-6619-496c-a87a-0d949f4e4cba",
   "metadata": {},
   "outputs": [],
   "source": [
    "df_category_pd = pd.read_json(\"bronze\\\\v1.0-test_meta\\\\v1.0-test\\\\category.json\")"
   ]
  },
  {
   "cell_type": "code",
   "execution_count": 15,
   "id": "6ad34254-0f77-494e-986b-7c501994a2e8",
   "metadata": {},
   "outputs": [],
   "source": [
    "df_category_pd['object'] = df_category_pd['name'].apply(lambda x: x.split('.')[-1])"
   ]
  },
  {
   "cell_type": "code",
   "execution_count": 16,
   "id": "d5430927-5afa-4517-b814-014331d779be",
   "metadata": {
    "scrolled": true
   },
   "outputs": [
    {
     "data": {
      "text/html": [
       "<div>\n",
       "<style scoped>\n",
       "    .dataframe tbody tr th:only-of-type {\n",
       "        vertical-align: middle;\n",
       "    }\n",
       "\n",
       "    .dataframe tbody tr th {\n",
       "        vertical-align: top;\n",
       "    }\n",
       "\n",
       "    .dataframe thead th {\n",
       "        text-align: right;\n",
       "    }\n",
       "</style>\n",
       "<table border=\"1\" class=\"dataframe\">\n",
       "  <thead>\n",
       "    <tr style=\"text-align: right;\">\n",
       "      <th></th>\n",
       "      <th>token</th>\n",
       "      <th>name</th>\n",
       "      <th>description</th>\n",
       "      <th>object</th>\n",
       "    </tr>\n",
       "  </thead>\n",
       "  <tbody>\n",
       "    <tr>\n",
       "      <th>0</th>\n",
       "      <td>1fa93b757fc74fb197cdd60001ad8abf</td>\n",
       "      <td>human.pedestrian.adult</td>\n",
       "      <td>Adult subcategory.</td>\n",
       "      <td>adult</td>\n",
       "    </tr>\n",
       "    <tr>\n",
       "      <th>1</th>\n",
       "      <td>b1c6de4c57f14a5383d9f963fbdcb5cb</td>\n",
       "      <td>human.pedestrian.child</td>\n",
       "      <td>Child subcategory.</td>\n",
       "      <td>child</td>\n",
       "    </tr>\n",
       "    <tr>\n",
       "      <th>2</th>\n",
       "      <td>b2d7c6c701254928a9e4d6aac9446d79</td>\n",
       "      <td>human.pedestrian.wheelchair</td>\n",
       "      <td>Wheelchairs. If a person is in the wheelchair,...</td>\n",
       "      <td>wheelchair</td>\n",
       "    </tr>\n",
       "    <tr>\n",
       "      <th>3</th>\n",
       "      <td>6a5888777ca14867a8aee3fe539b56c4</td>\n",
       "      <td>human.pedestrian.stroller</td>\n",
       "      <td>Strollers. If a person is in the stroller, inc...</td>\n",
       "      <td>stroller</td>\n",
       "    </tr>\n",
       "    <tr>\n",
       "      <th>4</th>\n",
       "      <td>403fede16c88426885dd73366f16c34a</td>\n",
       "      <td>human.pedestrian.personal_mobility</td>\n",
       "      <td>A small electric or self-propelled vehicle, e....</td>\n",
       "      <td>personal_mobility</td>\n",
       "    </tr>\n",
       "    <tr>\n",
       "      <th>5</th>\n",
       "      <td>bb867e2064014279863c71a29b1eb381</td>\n",
       "      <td>human.pedestrian.police_officer</td>\n",
       "      <td>Police officer.</td>\n",
       "      <td>police_officer</td>\n",
       "    </tr>\n",
       "    <tr>\n",
       "      <th>6</th>\n",
       "      <td>909f1237d34a49d6bdd27c2fe4581d79</td>\n",
       "      <td>human.pedestrian.construction_worker</td>\n",
       "      <td>Construction worker</td>\n",
       "      <td>construction_worker</td>\n",
       "    </tr>\n",
       "    <tr>\n",
       "      <th>7</th>\n",
       "      <td>63a94dfa99bb47529567cd90d3b58384</td>\n",
       "      <td>animal</td>\n",
       "      <td>All animals, e.g. cats, rats, dogs, deer, birds.</td>\n",
       "      <td>animal</td>\n",
       "    </tr>\n",
       "    <tr>\n",
       "      <th>8</th>\n",
       "      <td>fd69059b62a3469fbaef25340c0eab7f</td>\n",
       "      <td>vehicle.car</td>\n",
       "      <td>Vehicle designed primarily for personal use, e...</td>\n",
       "      <td>car</td>\n",
       "    </tr>\n",
       "    <tr>\n",
       "      <th>9</th>\n",
       "      <td>dfd26f200ade4d24b540184e16050022</td>\n",
       "      <td>vehicle.motorcycle</td>\n",
       "      <td>Gasoline or electric powered 2-wheeled vehicle...</td>\n",
       "      <td>motorcycle</td>\n",
       "    </tr>\n",
       "    <tr>\n",
       "      <th>10</th>\n",
       "      <td>fc95c87b806f48f8a1faea2dcc2222a4</td>\n",
       "      <td>vehicle.bicycle</td>\n",
       "      <td>Human or electric powered 2-wheeled vehicle de...</td>\n",
       "      <td>bicycle</td>\n",
       "    </tr>\n",
       "    <tr>\n",
       "      <th>11</th>\n",
       "      <td>003edbfb9ca849ee8a7496e9af3025d4</td>\n",
       "      <td>vehicle.bus.bendy</td>\n",
       "      <td>Bendy bus subcategory. Annotate each section o...</td>\n",
       "      <td>bendy</td>\n",
       "    </tr>\n",
       "    <tr>\n",
       "      <th>12</th>\n",
       "      <td>fedb11688db84088883945752e480c2c</td>\n",
       "      <td>vehicle.bus.rigid</td>\n",
       "      <td>Rigid bus subcategory.</td>\n",
       "      <td>rigid</td>\n",
       "    </tr>\n",
       "    <tr>\n",
       "      <th>13</th>\n",
       "      <td>6021b5187b924d64be64a702e5570edf</td>\n",
       "      <td>vehicle.truck</td>\n",
       "      <td>Vehicles primarily designed to haul cargo incl...</td>\n",
       "      <td>truck</td>\n",
       "    </tr>\n",
       "    <tr>\n",
       "      <th>14</th>\n",
       "      <td>5b3cd6f2bca64b83aa3d0008df87d0e4</td>\n",
       "      <td>vehicle.construction</td>\n",
       "      <td>Vehicles primarily designed for construction. ...</td>\n",
       "      <td>construction</td>\n",
       "    </tr>\n",
       "    <tr>\n",
       "      <th>15</th>\n",
       "      <td>732cce86872640628788ff1bb81006d4</td>\n",
       "      <td>vehicle.emergency.ambulance</td>\n",
       "      <td>All types of ambulances.</td>\n",
       "      <td>ambulance</td>\n",
       "    </tr>\n",
       "    <tr>\n",
       "      <th>16</th>\n",
       "      <td>7b2ff083a64e4d53809ae5d9be563504</td>\n",
       "      <td>vehicle.emergency.police</td>\n",
       "      <td>All types of police vehicles including police ...</td>\n",
       "      <td>police</td>\n",
       "    </tr>\n",
       "    <tr>\n",
       "      <th>17</th>\n",
       "      <td>90d0f6f8e7c749149b1b6c3a029841a8</td>\n",
       "      <td>vehicle.trailer</td>\n",
       "      <td>Any vehicle trailer, both for trucks, cars and...</td>\n",
       "      <td>trailer</td>\n",
       "    </tr>\n",
       "    <tr>\n",
       "      <th>18</th>\n",
       "      <td>653f7efbb9514ce7b81d44070d6208c1</td>\n",
       "      <td>movable_object.barrier</td>\n",
       "      <td>Temporary road barrier placed in the scene in ...</td>\n",
       "      <td>barrier</td>\n",
       "    </tr>\n",
       "    <tr>\n",
       "      <th>19</th>\n",
       "      <td>85abebdccd4d46c7be428af5a6173947</td>\n",
       "      <td>movable_object.trafficcone</td>\n",
       "      <td>All types of traffic cone.</td>\n",
       "      <td>trafficcone</td>\n",
       "    </tr>\n",
       "    <tr>\n",
       "      <th>20</th>\n",
       "      <td>d772e4bae20f493f98e15a76518b31d7</td>\n",
       "      <td>movable_object.pushable_pullable</td>\n",
       "      <td>Objects that a pedestrian may push or pull. Fo...</td>\n",
       "      <td>pushable_pullable</td>\n",
       "    </tr>\n",
       "    <tr>\n",
       "      <th>21</th>\n",
       "      <td>063c5e7f638343d3a7230bc3641caf97</td>\n",
       "      <td>movable_object.debris</td>\n",
       "      <td>Movable object that is left on the driveable s...</td>\n",
       "      <td>debris</td>\n",
       "    </tr>\n",
       "    <tr>\n",
       "      <th>22</th>\n",
       "      <td>0a30519ee16a4619b4f4acfe2d78fb55</td>\n",
       "      <td>static_object.bicycle_rack</td>\n",
       "      <td>Area or device intended to park or secure the ...</td>\n",
       "      <td>bicycle_rack</td>\n",
       "    </tr>\n",
       "  </tbody>\n",
       "</table>\n",
       "</div>"
      ],
      "text/plain": [
       "                               token                                  name  \\\n",
       "0   1fa93b757fc74fb197cdd60001ad8abf                human.pedestrian.adult   \n",
       "1   b1c6de4c57f14a5383d9f963fbdcb5cb                human.pedestrian.child   \n",
       "2   b2d7c6c701254928a9e4d6aac9446d79           human.pedestrian.wheelchair   \n",
       "3   6a5888777ca14867a8aee3fe539b56c4             human.pedestrian.stroller   \n",
       "4   403fede16c88426885dd73366f16c34a    human.pedestrian.personal_mobility   \n",
       "5   bb867e2064014279863c71a29b1eb381       human.pedestrian.police_officer   \n",
       "6   909f1237d34a49d6bdd27c2fe4581d79  human.pedestrian.construction_worker   \n",
       "7   63a94dfa99bb47529567cd90d3b58384                                animal   \n",
       "8   fd69059b62a3469fbaef25340c0eab7f                           vehicle.car   \n",
       "9   dfd26f200ade4d24b540184e16050022                    vehicle.motorcycle   \n",
       "10  fc95c87b806f48f8a1faea2dcc2222a4                       vehicle.bicycle   \n",
       "11  003edbfb9ca849ee8a7496e9af3025d4                     vehicle.bus.bendy   \n",
       "12  fedb11688db84088883945752e480c2c                     vehicle.bus.rigid   \n",
       "13  6021b5187b924d64be64a702e5570edf                         vehicle.truck   \n",
       "14  5b3cd6f2bca64b83aa3d0008df87d0e4                  vehicle.construction   \n",
       "15  732cce86872640628788ff1bb81006d4           vehicle.emergency.ambulance   \n",
       "16  7b2ff083a64e4d53809ae5d9be563504              vehicle.emergency.police   \n",
       "17  90d0f6f8e7c749149b1b6c3a029841a8                       vehicle.trailer   \n",
       "18  653f7efbb9514ce7b81d44070d6208c1                movable_object.barrier   \n",
       "19  85abebdccd4d46c7be428af5a6173947            movable_object.trafficcone   \n",
       "20  d772e4bae20f493f98e15a76518b31d7      movable_object.pushable_pullable   \n",
       "21  063c5e7f638343d3a7230bc3641caf97                 movable_object.debris   \n",
       "22  0a30519ee16a4619b4f4acfe2d78fb55            static_object.bicycle_rack   \n",
       "\n",
       "                                          description               object  \n",
       "0                                  Adult subcategory.                adult  \n",
       "1                                  Child subcategory.                child  \n",
       "2   Wheelchairs. If a person is in the wheelchair,...           wheelchair  \n",
       "3   Strollers. If a person is in the stroller, inc...             stroller  \n",
       "4   A small electric or self-propelled vehicle, e....    personal_mobility  \n",
       "5                                     Police officer.       police_officer  \n",
       "6                                 Construction worker  construction_worker  \n",
       "7    All animals, e.g. cats, rats, dogs, deer, birds.               animal  \n",
       "8   Vehicle designed primarily for personal use, e...                  car  \n",
       "9   Gasoline or electric powered 2-wheeled vehicle...           motorcycle  \n",
       "10  Human or electric powered 2-wheeled vehicle de...              bicycle  \n",
       "11  Bendy bus subcategory. Annotate each section o...                bendy  \n",
       "12                             Rigid bus subcategory.                rigid  \n",
       "13  Vehicles primarily designed to haul cargo incl...                truck  \n",
       "14  Vehicles primarily designed for construction. ...         construction  \n",
       "15                           All types of ambulances.            ambulance  \n",
       "16  All types of police vehicles including police ...               police  \n",
       "17  Any vehicle trailer, both for trucks, cars and...              trailer  \n",
       "18  Temporary road barrier placed in the scene in ...              barrier  \n",
       "19                         All types of traffic cone.          trafficcone  \n",
       "20  Objects that a pedestrian may push or pull. Fo...    pushable_pullable  \n",
       "21  Movable object that is left on the driveable s...               debris  \n",
       "22  Area or device intended to park or secure the ...         bicycle_rack  "
      ]
     },
     "execution_count": 16,
     "metadata": {},
     "output_type": "execute_result"
    }
   ],
   "source": [
    "df_category_pd"
   ]
  },
  {
   "cell_type": "code",
   "execution_count": 17,
   "id": "d9272573-9b4a-48a1-93c0-60681b25f644",
   "metadata": {},
   "outputs": [
    {
     "data": {
      "text/plain": [
       "Index(['token', 'name', 'description', 'object'], dtype='object')"
      ]
     },
     "execution_count": 17,
     "metadata": {},
     "output_type": "execute_result"
    }
   ],
   "source": [
    "df_category_pd.columns"
   ]
  },
  {
   "cell_type": "code",
   "execution_count": 18,
   "id": "82249ac8-b6f9-4820-b1ec-1d92c9d47d08",
   "metadata": {
    "scrolled": true
   },
   "outputs": [],
   "source": [
    "df_category_pd.rename(columns={'token':'uid', \n",
    "                               'name':'category'},inplace=True)"
   ]
  },
  {
   "cell_type": "code",
   "execution_count": 19,
   "id": "faf50df9-15da-40b7-958d-49f0747cc82d",
   "metadata": {},
   "outputs": [
    {
     "data": {
      "text/plain": [
       "uid            object\n",
       "category       object\n",
       "description    object\n",
       "object         object\n",
       "dtype: object"
      ]
     },
     "execution_count": 19,
     "metadata": {},
     "output_type": "execute_result"
    }
   ],
   "source": [
    "df_category_pd.dtypes"
   ]
  },
  {
   "cell_type": "code",
   "execution_count": 20,
   "id": "7d8fb5db-46df-4a0b-b9fe-db2049a1a54e",
   "metadata": {
    "scrolled": true
   },
   "outputs": [
    {
     "data": {
      "text/html": [
       "<div>\n",
       "<style scoped>\n",
       "    .dataframe tbody tr th:only-of-type {\n",
       "        vertical-align: middle;\n",
       "    }\n",
       "\n",
       "    .dataframe tbody tr th {\n",
       "        vertical-align: top;\n",
       "    }\n",
       "\n",
       "    .dataframe thead th {\n",
       "        text-align: right;\n",
       "    }\n",
       "</style>\n",
       "<table border=\"1\" class=\"dataframe\">\n",
       "  <thead>\n",
       "    <tr style=\"text-align: right;\">\n",
       "      <th></th>\n",
       "      <th>uid</th>\n",
       "      <th>category</th>\n",
       "      <th>description</th>\n",
       "      <th>object</th>\n",
       "    </tr>\n",
       "  </thead>\n",
       "  <tbody>\n",
       "    <tr>\n",
       "      <th>0</th>\n",
       "      <td>1fa93b757fc74fb197cdd60001ad8abf</td>\n",
       "      <td>human.pedestrian.adult</td>\n",
       "      <td>Adult subcategory.</td>\n",
       "      <td>adult</td>\n",
       "    </tr>\n",
       "    <tr>\n",
       "      <th>1</th>\n",
       "      <td>b1c6de4c57f14a5383d9f963fbdcb5cb</td>\n",
       "      <td>human.pedestrian.child</td>\n",
       "      <td>Child subcategory.</td>\n",
       "      <td>child</td>\n",
       "    </tr>\n",
       "    <tr>\n",
       "      <th>2</th>\n",
       "      <td>b2d7c6c701254928a9e4d6aac9446d79</td>\n",
       "      <td>human.pedestrian.wheelchair</td>\n",
       "      <td>Wheelchairs. If a person is in the wheelchair,...</td>\n",
       "      <td>wheelchair</td>\n",
       "    </tr>\n",
       "    <tr>\n",
       "      <th>3</th>\n",
       "      <td>6a5888777ca14867a8aee3fe539b56c4</td>\n",
       "      <td>human.pedestrian.stroller</td>\n",
       "      <td>Strollers. If a person is in the stroller, inc...</td>\n",
       "      <td>stroller</td>\n",
       "    </tr>\n",
       "    <tr>\n",
       "      <th>4</th>\n",
       "      <td>403fede16c88426885dd73366f16c34a</td>\n",
       "      <td>human.pedestrian.personal_mobility</td>\n",
       "      <td>A small electric or self-propelled vehicle, e....</td>\n",
       "      <td>personal_mobility</td>\n",
       "    </tr>\n",
       "    <tr>\n",
       "      <th>5</th>\n",
       "      <td>bb867e2064014279863c71a29b1eb381</td>\n",
       "      <td>human.pedestrian.police_officer</td>\n",
       "      <td>Police officer.</td>\n",
       "      <td>police_officer</td>\n",
       "    </tr>\n",
       "    <tr>\n",
       "      <th>6</th>\n",
       "      <td>909f1237d34a49d6bdd27c2fe4581d79</td>\n",
       "      <td>human.pedestrian.construction_worker</td>\n",
       "      <td>Construction worker</td>\n",
       "      <td>construction_worker</td>\n",
       "    </tr>\n",
       "    <tr>\n",
       "      <th>7</th>\n",
       "      <td>63a94dfa99bb47529567cd90d3b58384</td>\n",
       "      <td>animal</td>\n",
       "      <td>All animals, e.g. cats, rats, dogs, deer, birds.</td>\n",
       "      <td>animal</td>\n",
       "    </tr>\n",
       "    <tr>\n",
       "      <th>8</th>\n",
       "      <td>fd69059b62a3469fbaef25340c0eab7f</td>\n",
       "      <td>vehicle.car</td>\n",
       "      <td>Vehicle designed primarily for personal use, e...</td>\n",
       "      <td>car</td>\n",
       "    </tr>\n",
       "    <tr>\n",
       "      <th>9</th>\n",
       "      <td>dfd26f200ade4d24b540184e16050022</td>\n",
       "      <td>vehicle.motorcycle</td>\n",
       "      <td>Gasoline or electric powered 2-wheeled vehicle...</td>\n",
       "      <td>motorcycle</td>\n",
       "    </tr>\n",
       "    <tr>\n",
       "      <th>10</th>\n",
       "      <td>fc95c87b806f48f8a1faea2dcc2222a4</td>\n",
       "      <td>vehicle.bicycle</td>\n",
       "      <td>Human or electric powered 2-wheeled vehicle de...</td>\n",
       "      <td>bicycle</td>\n",
       "    </tr>\n",
       "    <tr>\n",
       "      <th>11</th>\n",
       "      <td>003edbfb9ca849ee8a7496e9af3025d4</td>\n",
       "      <td>vehicle.bus.bendy</td>\n",
       "      <td>Bendy bus subcategory. Annotate each section o...</td>\n",
       "      <td>bendy</td>\n",
       "    </tr>\n",
       "    <tr>\n",
       "      <th>12</th>\n",
       "      <td>fedb11688db84088883945752e480c2c</td>\n",
       "      <td>vehicle.bus.rigid</td>\n",
       "      <td>Rigid bus subcategory.</td>\n",
       "      <td>rigid</td>\n",
       "    </tr>\n",
       "    <tr>\n",
       "      <th>13</th>\n",
       "      <td>6021b5187b924d64be64a702e5570edf</td>\n",
       "      <td>vehicle.truck</td>\n",
       "      <td>Vehicles primarily designed to haul cargo incl...</td>\n",
       "      <td>truck</td>\n",
       "    </tr>\n",
       "    <tr>\n",
       "      <th>14</th>\n",
       "      <td>5b3cd6f2bca64b83aa3d0008df87d0e4</td>\n",
       "      <td>vehicle.construction</td>\n",
       "      <td>Vehicles primarily designed for construction. ...</td>\n",
       "      <td>construction</td>\n",
       "    </tr>\n",
       "    <tr>\n",
       "      <th>15</th>\n",
       "      <td>732cce86872640628788ff1bb81006d4</td>\n",
       "      <td>vehicle.emergency.ambulance</td>\n",
       "      <td>All types of ambulances.</td>\n",
       "      <td>ambulance</td>\n",
       "    </tr>\n",
       "    <tr>\n",
       "      <th>16</th>\n",
       "      <td>7b2ff083a64e4d53809ae5d9be563504</td>\n",
       "      <td>vehicle.emergency.police</td>\n",
       "      <td>All types of police vehicles including police ...</td>\n",
       "      <td>police</td>\n",
       "    </tr>\n",
       "    <tr>\n",
       "      <th>17</th>\n",
       "      <td>90d0f6f8e7c749149b1b6c3a029841a8</td>\n",
       "      <td>vehicle.trailer</td>\n",
       "      <td>Any vehicle trailer, both for trucks, cars and...</td>\n",
       "      <td>trailer</td>\n",
       "    </tr>\n",
       "    <tr>\n",
       "      <th>18</th>\n",
       "      <td>653f7efbb9514ce7b81d44070d6208c1</td>\n",
       "      <td>movable_object.barrier</td>\n",
       "      <td>Temporary road barrier placed in the scene in ...</td>\n",
       "      <td>barrier</td>\n",
       "    </tr>\n",
       "    <tr>\n",
       "      <th>19</th>\n",
       "      <td>85abebdccd4d46c7be428af5a6173947</td>\n",
       "      <td>movable_object.trafficcone</td>\n",
       "      <td>All types of traffic cone.</td>\n",
       "      <td>trafficcone</td>\n",
       "    </tr>\n",
       "    <tr>\n",
       "      <th>20</th>\n",
       "      <td>d772e4bae20f493f98e15a76518b31d7</td>\n",
       "      <td>movable_object.pushable_pullable</td>\n",
       "      <td>Objects that a pedestrian may push or pull. Fo...</td>\n",
       "      <td>pushable_pullable</td>\n",
       "    </tr>\n",
       "    <tr>\n",
       "      <th>21</th>\n",
       "      <td>063c5e7f638343d3a7230bc3641caf97</td>\n",
       "      <td>movable_object.debris</td>\n",
       "      <td>Movable object that is left on the driveable s...</td>\n",
       "      <td>debris</td>\n",
       "    </tr>\n",
       "    <tr>\n",
       "      <th>22</th>\n",
       "      <td>0a30519ee16a4619b4f4acfe2d78fb55</td>\n",
       "      <td>static_object.bicycle_rack</td>\n",
       "      <td>Area or device intended to park or secure the ...</td>\n",
       "      <td>bicycle_rack</td>\n",
       "    </tr>\n",
       "  </tbody>\n",
       "</table>\n",
       "</div>"
      ],
      "text/plain": [
       "                                 uid                              category  \\\n",
       "0   1fa93b757fc74fb197cdd60001ad8abf                human.pedestrian.adult   \n",
       "1   b1c6de4c57f14a5383d9f963fbdcb5cb                human.pedestrian.child   \n",
       "2   b2d7c6c701254928a9e4d6aac9446d79           human.pedestrian.wheelchair   \n",
       "3   6a5888777ca14867a8aee3fe539b56c4             human.pedestrian.stroller   \n",
       "4   403fede16c88426885dd73366f16c34a    human.pedestrian.personal_mobility   \n",
       "5   bb867e2064014279863c71a29b1eb381       human.pedestrian.police_officer   \n",
       "6   909f1237d34a49d6bdd27c2fe4581d79  human.pedestrian.construction_worker   \n",
       "7   63a94dfa99bb47529567cd90d3b58384                                animal   \n",
       "8   fd69059b62a3469fbaef25340c0eab7f                           vehicle.car   \n",
       "9   dfd26f200ade4d24b540184e16050022                    vehicle.motorcycle   \n",
       "10  fc95c87b806f48f8a1faea2dcc2222a4                       vehicle.bicycle   \n",
       "11  003edbfb9ca849ee8a7496e9af3025d4                     vehicle.bus.bendy   \n",
       "12  fedb11688db84088883945752e480c2c                     vehicle.bus.rigid   \n",
       "13  6021b5187b924d64be64a702e5570edf                         vehicle.truck   \n",
       "14  5b3cd6f2bca64b83aa3d0008df87d0e4                  vehicle.construction   \n",
       "15  732cce86872640628788ff1bb81006d4           vehicle.emergency.ambulance   \n",
       "16  7b2ff083a64e4d53809ae5d9be563504              vehicle.emergency.police   \n",
       "17  90d0f6f8e7c749149b1b6c3a029841a8                       vehicle.trailer   \n",
       "18  653f7efbb9514ce7b81d44070d6208c1                movable_object.barrier   \n",
       "19  85abebdccd4d46c7be428af5a6173947            movable_object.trafficcone   \n",
       "20  d772e4bae20f493f98e15a76518b31d7      movable_object.pushable_pullable   \n",
       "21  063c5e7f638343d3a7230bc3641caf97                 movable_object.debris   \n",
       "22  0a30519ee16a4619b4f4acfe2d78fb55            static_object.bicycle_rack   \n",
       "\n",
       "                                          description               object  \n",
       "0                                  Adult subcategory.                adult  \n",
       "1                                  Child subcategory.                child  \n",
       "2   Wheelchairs. If a person is in the wheelchair,...           wheelchair  \n",
       "3   Strollers. If a person is in the stroller, inc...             stroller  \n",
       "4   A small electric or self-propelled vehicle, e....    personal_mobility  \n",
       "5                                     Police officer.       police_officer  \n",
       "6                                 Construction worker  construction_worker  \n",
       "7    All animals, e.g. cats, rats, dogs, deer, birds.               animal  \n",
       "8   Vehicle designed primarily for personal use, e...                  car  \n",
       "9   Gasoline or electric powered 2-wheeled vehicle...           motorcycle  \n",
       "10  Human or electric powered 2-wheeled vehicle de...              bicycle  \n",
       "11  Bendy bus subcategory. Annotate each section o...                bendy  \n",
       "12                             Rigid bus subcategory.                rigid  \n",
       "13  Vehicles primarily designed to haul cargo incl...                truck  \n",
       "14  Vehicles primarily designed for construction. ...         construction  \n",
       "15                           All types of ambulances.            ambulance  \n",
       "16  All types of police vehicles including police ...               police  \n",
       "17  Any vehicle trailer, both for trucks, cars and...              trailer  \n",
       "18  Temporary road barrier placed in the scene in ...              barrier  \n",
       "19                         All types of traffic cone.          trafficcone  \n",
       "20  Objects that a pedestrian may push or pull. Fo...    pushable_pullable  \n",
       "21  Movable object that is left on the driveable s...               debris  \n",
       "22  Area or device intended to park or secure the ...         bicycle_rack  "
      ]
     },
     "execution_count": 20,
     "metadata": {},
     "output_type": "execute_result"
    }
   ],
   "source": [
    "df_category_pd.astype({'uid':'string', \n",
    "                              'category':'string', \n",
    "                              'description':'string', \n",
    "                              'object':'string'}, \n",
    "                              copy=False)"
   ]
  },
  {
   "cell_type": "markdown",
   "id": "5360f70a-cdd9-4614-a1af-5e7ec842a607",
   "metadata": {},
   "source": [
    "### Visibility"
   ]
  },
  {
   "cell_type": "code",
   "execution_count": 21,
   "id": "23113580-9cde-4e0f-ac74-7275392e7a3f",
   "metadata": {
    "scrolled": true
   },
   "outputs": [],
   "source": [
    "df_visibility_pd = pd.read_json(\"bronze\\\\v1.0-test_meta\\\\v1.0-test\\\\visibility.json\")"
   ]
  },
  {
   "cell_type": "code",
   "execution_count": 22,
   "id": "c2a55854-b4da-43e7-b884-627e4fe77db8",
   "metadata": {},
   "outputs": [
    {
     "data": {
      "text/plain": [
       "description    object\n",
       "token           int64\n",
       "level          object\n",
       "dtype: object"
      ]
     },
     "execution_count": 22,
     "metadata": {},
     "output_type": "execute_result"
    }
   ],
   "source": [
    "df_visibility_pd.dtypes"
   ]
  },
  {
   "cell_type": "code",
   "execution_count": 23,
   "id": "a59b5db5-f0b2-4908-961c-283573170d4a",
   "metadata": {},
   "outputs": [],
   "source": [
    "low = [0,40,60,80]\n",
    "high = [40,60,80,100]"
   ]
  },
  {
   "cell_type": "code",
   "execution_count": 24,
   "id": "8c8167d8-bb44-40cd-b708-513873850e94",
   "metadata": {},
   "outputs": [],
   "source": [
    "df_visibility_pd.drop(columns=['level'],inplace=True)"
   ]
  },
  {
   "cell_type": "code",
   "execution_count": 25,
   "id": "6569b5a2-0d1c-4585-8133-e0a116e9acbe",
   "metadata": {},
   "outputs": [],
   "source": [
    "df_visibility_pd['level_low'], df_visibility_pd['level_high'] = low, high"
   ]
  },
  {
   "cell_type": "code",
   "execution_count": 26,
   "id": "a0444eb2-4013-4359-b3e9-6a7b4e2516f2",
   "metadata": {},
   "outputs": [
    {
     "data": {
      "text/html": [
       "<div>\n",
       "<style scoped>\n",
       "    .dataframe tbody tr th:only-of-type {\n",
       "        vertical-align: middle;\n",
       "    }\n",
       "\n",
       "    .dataframe tbody tr th {\n",
       "        vertical-align: top;\n",
       "    }\n",
       "\n",
       "    .dataframe thead th {\n",
       "        text-align: right;\n",
       "    }\n",
       "</style>\n",
       "<table border=\"1\" class=\"dataframe\">\n",
       "  <thead>\n",
       "    <tr style=\"text-align: right;\">\n",
       "      <th></th>\n",
       "      <th>description</th>\n",
       "      <th>token</th>\n",
       "      <th>level_low</th>\n",
       "      <th>level_high</th>\n",
       "    </tr>\n",
       "  </thead>\n",
       "  <tbody>\n",
       "    <tr>\n",
       "      <th>0</th>\n",
       "      <td>visibility of whole object is between 0 and 40%</td>\n",
       "      <td>1</td>\n",
       "      <td>0</td>\n",
       "      <td>40</td>\n",
       "    </tr>\n",
       "    <tr>\n",
       "      <th>1</th>\n",
       "      <td>visibility of whole object is between 40 and 60%</td>\n",
       "      <td>2</td>\n",
       "      <td>40</td>\n",
       "      <td>60</td>\n",
       "    </tr>\n",
       "    <tr>\n",
       "      <th>2</th>\n",
       "      <td>visibility of whole object is between 60 and 80%</td>\n",
       "      <td>3</td>\n",
       "      <td>60</td>\n",
       "      <td>80</td>\n",
       "    </tr>\n",
       "    <tr>\n",
       "      <th>3</th>\n",
       "      <td>visibility of whole object is between 80 and 100%</td>\n",
       "      <td>4</td>\n",
       "      <td>80</td>\n",
       "      <td>100</td>\n",
       "    </tr>\n",
       "  </tbody>\n",
       "</table>\n",
       "</div>"
      ],
      "text/plain": [
       "                                         description  token  level_low  \\\n",
       "0    visibility of whole object is between 0 and 40%      1          0   \n",
       "1   visibility of whole object is between 40 and 60%      2         40   \n",
       "2   visibility of whole object is between 60 and 80%      3         60   \n",
       "3  visibility of whole object is between 80 and 100%      4         80   \n",
       "\n",
       "   level_high  \n",
       "0          40  \n",
       "1          60  \n",
       "2          80  \n",
       "3         100  "
      ]
     },
     "execution_count": 26,
     "metadata": {},
     "output_type": "execute_result"
    }
   ],
   "source": [
    "df_visibility_pd"
   ]
  },
  {
   "cell_type": "code",
   "execution_count": 27,
   "id": "44a7757f-3a89-4598-a118-b238b28d5a93",
   "metadata": {},
   "outputs": [
    {
     "data": {
      "text/plain": [
       "description    object\n",
       "token           int64\n",
       "level_low       int64\n",
       "level_high      int64\n",
       "dtype: object"
      ]
     },
     "execution_count": 27,
     "metadata": {},
     "output_type": "execute_result"
    }
   ],
   "source": [
    "df_visibility_pd.dtypes"
   ]
  },
  {
   "cell_type": "code",
   "execution_count": 28,
   "id": "70b88eed-034f-4381-8cd9-d863144080ca",
   "metadata": {},
   "outputs": [],
   "source": [
    "df_visibility_pd.rename(columns={'token':'uid'}, inplace=True)"
   ]
  },
  {
   "cell_type": "code",
   "execution_count": 29,
   "id": "dfcbb468-39e2-4ee6-9538-67b92f19d367",
   "metadata": {},
   "outputs": [
    {
     "data": {
      "text/plain": [
       "Index(['description', 'uid', 'level_low', 'level_high'], dtype='object')"
      ]
     },
     "execution_count": 29,
     "metadata": {},
     "output_type": "execute_result"
    }
   ],
   "source": [
    "df_visibility_pd.columns"
   ]
  },
  {
   "cell_type": "code",
   "execution_count": 30,
   "id": "7b314c26-5d00-49ff-994d-9ed40ee4b007",
   "metadata": {},
   "outputs": [
    {
     "data": {
      "text/html": [
       "<div>\n",
       "<style scoped>\n",
       "    .dataframe tbody tr th:only-of-type {\n",
       "        vertical-align: middle;\n",
       "    }\n",
       "\n",
       "    .dataframe tbody tr th {\n",
       "        vertical-align: top;\n",
       "    }\n",
       "\n",
       "    .dataframe thead th {\n",
       "        text-align: right;\n",
       "    }\n",
       "</style>\n",
       "<table border=\"1\" class=\"dataframe\">\n",
       "  <thead>\n",
       "    <tr style=\"text-align: right;\">\n",
       "      <th></th>\n",
       "      <th>description</th>\n",
       "      <th>uid</th>\n",
       "      <th>level_low</th>\n",
       "      <th>level_high</th>\n",
       "    </tr>\n",
       "  </thead>\n",
       "  <tbody>\n",
       "    <tr>\n",
       "      <th>0</th>\n",
       "      <td>visibility of whole object is between 0 and 40%</td>\n",
       "      <td>1</td>\n",
       "      <td>0</td>\n",
       "      <td>40</td>\n",
       "    </tr>\n",
       "    <tr>\n",
       "      <th>1</th>\n",
       "      <td>visibility of whole object is between 40 and 60%</td>\n",
       "      <td>2</td>\n",
       "      <td>40</td>\n",
       "      <td>60</td>\n",
       "    </tr>\n",
       "    <tr>\n",
       "      <th>2</th>\n",
       "      <td>visibility of whole object is between 60 and 80%</td>\n",
       "      <td>3</td>\n",
       "      <td>60</td>\n",
       "      <td>80</td>\n",
       "    </tr>\n",
       "    <tr>\n",
       "      <th>3</th>\n",
       "      <td>visibility of whole object is between 80 and 100%</td>\n",
       "      <td>4</td>\n",
       "      <td>80</td>\n",
       "      <td>100</td>\n",
       "    </tr>\n",
       "  </tbody>\n",
       "</table>\n",
       "</div>"
      ],
      "text/plain": [
       "                                         description uid  level_low  \\\n",
       "0    visibility of whole object is between 0 and 40%   1          0   \n",
       "1   visibility of whole object is between 40 and 60%   2         40   \n",
       "2   visibility of whole object is between 60 and 80%   3         60   \n",
       "3  visibility of whole object is between 80 and 100%   4         80   \n",
       "\n",
       "   level_high  \n",
       "0          40  \n",
       "1          60  \n",
       "2          80  \n",
       "3         100  "
      ]
     },
     "execution_count": 30,
     "metadata": {},
     "output_type": "execute_result"
    }
   ],
   "source": [
    "df_visibility_pd.astype({'uid':'string', \n",
    "                         'description':'string', \n",
    "                         'level_low':'int64', \n",
    "                         'level_high': 'int64'}, copy=False)"
   ]
  },
  {
   "cell_type": "code",
   "execution_count": 31,
   "id": "2f10cf1c-0a29-45d5-a371-36ddfe0e87cb",
   "metadata": {},
   "outputs": [
    {
     "data": {
      "text/plain": [
       "description    object\n",
       "uid             int64\n",
       "level_low       int64\n",
       "level_high      int64\n",
       "dtype: object"
      ]
     },
     "execution_count": 31,
     "metadata": {},
     "output_type": "execute_result"
    }
   ],
   "source": [
    "df_visibility_pd.dtypes"
   ]
  },
  {
   "cell_type": "markdown",
   "id": "07ccd2fb-71c1-4297-8c8e-f6eb63110f51",
   "metadata": {},
   "source": [
    "## Store"
   ]
  },
  {
   "cell_type": "code",
   "execution_count": 32,
   "id": "81749204-3869-4d29-aec0-bf4b4fbf238d",
   "metadata": {},
   "outputs": [],
   "source": [
    "import pyarrow as pa\n",
    "import pyarrow.parquet as pq"
   ]
  },
  {
   "cell_type": "code",
   "execution_count": 33,
   "id": "be57f259-cddf-41ae-a6ef-aa73202d8ab8",
   "metadata": {},
   "outputs": [],
   "source": [
    "category = pa.Table.from_pandas(df_category_pd)"
   ]
  },
  {
   "cell_type": "code",
   "execution_count": 34,
   "id": "f18f0ad7-02cc-44ab-b505-c04828a5d9c1",
   "metadata": {},
   "outputs": [],
   "source": [
    "pq.write_table(category, 'silver\\\\seeds\\\\category.parquet')"
   ]
  },
  {
   "cell_type": "code",
   "execution_count": 35,
   "id": "f062029b-45cf-43c4-8e63-4f34c5105064",
   "metadata": {},
   "outputs": [],
   "source": [
    "del df_category_pd"
   ]
  },
  {
   "cell_type": "code",
   "execution_count": 36,
   "id": "b51f1758-5aa2-40de-a4c9-28018abebb44",
   "metadata": {},
   "outputs": [],
   "source": [
    "visibility = pa.Table.from_pandas(df_visibility_pd)"
   ]
  },
  {
   "cell_type": "code",
   "execution_count": 37,
   "id": "1256018b-d485-48c1-8b76-a96ec29f8415",
   "metadata": {},
   "outputs": [],
   "source": [
    "pq.write_table(visibility, 'silver\\\\seeds\\\\visibility.parquet')"
   ]
  },
  {
   "cell_type": "code",
   "execution_count": 38,
   "id": "b9c59013-b56e-4d52-ae23-ecced7449b93",
   "metadata": {},
   "outputs": [],
   "source": [
    "del df_visibility_pd"
   ]
  },
  {
   "cell_type": "code",
   "execution_count": 39,
   "id": "49ab068d-a873-4bbb-a690-91c9fad15a7e",
   "metadata": {},
   "outputs": [],
   "source": [
    "# Read parquet test\n",
    "# df_category = pq.read_table('silver\\\\seeds\\\\category.parquet').to_pandas()\n",
    "# df_visibility = pq.read_table('silver\\\\seeds\\\\visibility.parquet').to_pandas()"
   ]
  },
  {
   "cell_type": "markdown",
   "id": "da68f437-d269-4eae-ae2c-66484b5b5fd4",
   "metadata": {},
   "source": [
    "# Modify and Store Sources"
   ]
  },
  {
   "cell_type": "markdown",
   "id": "2121e021-afed-47fe-ae9b-2bc029b3c650",
   "metadata": {},
   "source": [
    "## Identify Schema for sources"
   ]
  },
  {
   "cell_type": "markdown",
   "id": "11d662f9-68e0-4cc1-bfb6-b5ac7e503131",
   "metadata": {},
   "source": [
    "Identified sources:\n",
    "- instance\n",
    "- log\n",
    "- sample\n",
    "- sample_annotation\n",
    "- sample_data\n",
    "- scene"
   ]
  },
  {
   "cell_type": "code",
   "execution_count": 40,
   "id": "372c8679-7f53-4007-b066-097b21bbb108",
   "metadata": {},
   "outputs": [
    {
     "name": "stdout",
     "output_type": "stream",
     "text": [
      "['bronze\\\\v1.0-trainval_meta\\\\v1.0-trainval\\\\attribute.json',\n",
      " 'bronze\\\\v1.0-trainval_meta\\\\v1.0-trainval\\\\calibrated_sensor.json',\n",
      " 'bronze\\\\v1.0-trainval_meta\\\\v1.0-trainval\\\\category.json',\n",
      " 'bronze\\\\v1.0-trainval_meta\\\\v1.0-trainval\\\\ego_pose.json',\n",
      " 'bronze\\\\v1.0-trainval_meta\\\\v1.0-trainval\\\\instance.json',\n",
      " 'bronze\\\\v1.0-trainval_meta\\\\v1.0-trainval\\\\log.json',\n",
      " 'bronze\\\\v1.0-trainval_meta\\\\v1.0-trainval\\\\map.json',\n",
      " 'bronze\\\\v1.0-trainval_meta\\\\v1.0-trainval\\\\sample.json',\n",
      " 'bronze\\\\v1.0-trainval_meta\\\\v1.0-trainval\\\\sample_annotation.json',\n",
      " 'bronze\\\\v1.0-trainval_meta\\\\v1.0-trainval\\\\sample_data.json',\n",
      " 'bronze\\\\v1.0-trainval_meta\\\\v1.0-trainval\\\\scene.json',\n",
      " 'bronze\\\\v1.0-trainval_meta\\\\v1.0-trainval\\\\sensor.json',\n",
      " 'bronze\\\\v1.0-trainval_meta\\\\v1.0-trainval\\\\visibility.json']\n",
      "['bronze\\\\v1.0-test_meta\\\\v1.0-test\\\\attribute.json',\n",
      " 'bronze\\\\v1.0-test_meta\\\\v1.0-test\\\\calibrated_sensor.json',\n",
      " 'bronze\\\\v1.0-test_meta\\\\v1.0-test\\\\category.json',\n",
      " 'bronze\\\\v1.0-test_meta\\\\v1.0-test\\\\ego_pose.json',\n",
      " 'bronze\\\\v1.0-test_meta\\\\v1.0-test\\\\instance.json',\n",
      " 'bronze\\\\v1.0-test_meta\\\\v1.0-test\\\\log.json',\n",
      " 'bronze\\\\v1.0-test_meta\\\\v1.0-test\\\\map.json',\n",
      " 'bronze\\\\v1.0-test_meta\\\\v1.0-test\\\\sample.json',\n",
      " 'bronze\\\\v1.0-test_meta\\\\v1.0-test\\\\sample_annotation.json',\n",
      " 'bronze\\\\v1.0-test_meta\\\\v1.0-test\\\\sample_data.json',\n",
      " 'bronze\\\\v1.0-test_meta\\\\v1.0-test\\\\scene.json',\n",
      " 'bronze\\\\v1.0-test_meta\\\\v1.0-test\\\\sensor.json',\n",
      " 'bronze\\\\v1.0-test_meta\\\\v1.0-test\\\\visibility.json']\n"
     ]
    }
   ],
   "source": [
    "from pprint import pprint\n",
    "pprint(file_list_trainval)\n",
    "pprint(file_list_test)"
   ]
  },
  {
   "cell_type": "code",
   "execution_count": null,
   "id": "a8af270b-569a-445a-8e38-4118763c1c18",
   "metadata": {},
   "outputs": [],
   "source": [
    "df_log_pd = pd.read_json(\"bronze\\\\v1.0-trainval_meta\\\\v1.0-trainval\\\\log.json\")\n",
    "df_scene_pd = pd.read_json(\"bronze\\\\v1.0-trainval_meta\\\\v1.0-trainval\\\\scene.json\")\n",
    "df_sample_pd = pd.read_json(\"bronze\\\\v1.0-trainval_meta\\\\v1.0-trainval\\\\sample.json\")\n",
    "df_sample_data_pd = pd.read_json(\"bronze\\\\v1.0-trainval_meta\\\\v1.0-trainval\\\\sample_data.json\")\n",
    "df_sample_annotation_pd = pd.read_json(\"bronze\\\\v1.0-trainval_meta\\\\v1.0-trainval\\\\sample_annotation.json\")\n",
    "df_instance_pd = pd.read_json(\"bronze\\\\v1.0-trainval_meta\\\\v1.0-trainval\\\\instance.json\")"
   ]
  },
  {
   "cell_type": "markdown",
   "id": "46c4dd9d-8304-4d9b-8174-13346b8feb39",
   "metadata": {},
   "source": [
    "### Log"
   ]
  },
  {
   "cell_type": "code",
   "execution_count": null,
   "id": "918dfc69-8dbb-428e-8edf-b73fbcb6cdea",
   "metadata": {},
   "outputs": [],
   "source": [
    "df_log_pd.head(3)"
   ]
  },
  {
   "cell_type": "code",
   "execution_count": null,
   "id": "9d366650-74c1-42db-bcd2-97c7cbd3cc8e",
   "metadata": {
    "scrolled": true
   },
   "outputs": [],
   "source": [
    "df_log_pd.columns"
   ]
  },
  {
   "cell_type": "code",
   "execution_count": null,
   "id": "bb5628ef-a849-41f6-b6b8-ce4031c77402",
   "metadata": {},
   "outputs": [],
   "source": [
    "df_log_pd.dtypes"
   ]
  },
  {
   "cell_type": "code",
   "execution_count": null,
   "id": "f03ca703-ef31-46cd-91ce-df43fd153d43",
   "metadata": {},
   "outputs": [],
   "source": [
    "df_log_pd = df_log_pd[['token','logfile','vehicle','location']]"
   ]
  },
  {
   "cell_type": "code",
   "execution_count": null,
   "id": "d234bb10-6d79-4bf7-9044-bf3b12c77dfd",
   "metadata": {},
   "outputs": [],
   "source": [
    "df_log_pd['zone'] = df_log_pd['location'].apply(lambda x: x.split('-')[1])"
   ]
  },
  {
   "cell_type": "code",
   "execution_count": null,
   "id": "fc8a8b45-959c-43b6-b7f2-0ab6b242855c",
   "metadata": {},
   "outputs": [],
   "source": [
    "df_log_pd['location'] = df_log_pd['location'].apply(lambda x: x.split('-')[0])"
   ]
  },
  {
   "cell_type": "code",
   "execution_count": null,
   "id": "7a959bb7-1739-48e1-b0ae-ec10e014e60c",
   "metadata": {},
   "outputs": [],
   "source": [
    "df_log_pd.rename(columns={'logfile':'record_name'}, inplace=True)"
   ]
  },
  {
   "cell_type": "code",
   "execution_count": null,
   "id": "4c7143f2-1314-4f87-9de9-20de3350a30a",
   "metadata": {},
   "outputs": [],
   "source": [
    "df_log_pd.astype({'token':'string', \n",
    "                 'record_name':'string', \n",
    "                 'vehicle':'string', \n",
    "                 'location': 'string',\n",
    "                 'zone': 'string',}, copy=False)"
   ]
  },
  {
   "cell_type": "code",
   "execution_count": null,
   "id": "11a01dbc-7f38-4803-b5d4-4516cfd92701",
   "metadata": {},
   "outputs": [],
   "source": [
    "df_log_pd.head(3)"
   ]
  },
  {
   "cell_type": "code",
   "execution_count": null,
   "id": "7b196509-aa02-44ef-983a-ae0e5df1a231",
   "metadata": {},
   "outputs": [],
   "source": [
    "df_log_pd.columns"
   ]
  },
  {
   "cell_type": "code",
   "execution_count": null,
   "id": "c832416c-2231-4f2b-b827-9fade622c9e2",
   "metadata": {},
   "outputs": [],
   "source": [
    "df_log_pd.dtypes"
   ]
  },
  {
   "cell_type": "markdown",
   "id": "d08400b9-ebb2-43a1-b062-7c1c1f32cece",
   "metadata": {},
   "source": [
    "### Scene"
   ]
  },
  {
   "cell_type": "code",
   "execution_count": null,
   "id": "5687d7b9-3a19-4539-b5d2-f47159b8271f",
   "metadata": {
    "scrolled": true
   },
   "outputs": [],
   "source": [
    "df_scene_pd.head(3)"
   ]
  },
  {
   "cell_type": "code",
   "execution_count": null,
   "id": "f2f15c9b-8a76-4fd1-bf2b-d2c23ca3a6cc",
   "metadata": {
    "scrolled": true
   },
   "outputs": [],
   "source": [
    "df_scene_pd.columns"
   ]
  },
  {
   "cell_type": "code",
   "execution_count": null,
   "id": "e4c48295-27cc-4bbc-bf8c-9f9d12a48543",
   "metadata": {},
   "outputs": [],
   "source": [
    "df_scene_pd.dtypes"
   ]
  },
  {
   "cell_type": "code",
   "execution_count": null,
   "id": "335ad23c-e66d-4038-857f-6b4ce2267ad4",
   "metadata": {},
   "outputs": [],
   "source": [
    "df_scene_pd = df_scene_pd[['token', 'name', 'description', 'log_token']]"
   ]
  },
  {
   "cell_type": "code",
   "execution_count": null,
   "id": "4913694e-395f-4bcc-8b72-e38526c68a65",
   "metadata": {},
   "outputs": [],
   "source": [
    "df_scene_pd.rename(columns={'name':'scene_name',\n",
    "                         'description':'scene_description'}, inplace=True)"
   ]
  },
  {
   "cell_type": "code",
   "execution_count": null,
   "id": "00112efb-4d03-467f-92eb-744eb6991333",
   "metadata": {},
   "outputs": [],
   "source": [
    "df_scene_pd.astype({'token':'string', \n",
    "                 'scene_name':'string', \n",
    "                 'scene_description':'string', \n",
    "                 'log_token': 'string'}, copy=False)"
   ]
  },
  {
   "cell_type": "code",
   "execution_count": null,
   "id": "3764f527-9cbf-4ebb-bd49-84d0181f822d",
   "metadata": {},
   "outputs": [],
   "source": [
    "df_scene_pd.head(3)"
   ]
  },
  {
   "cell_type": "code",
   "execution_count": null,
   "id": "f790cfd3-5487-4d99-8b47-b5ed43050151",
   "metadata": {},
   "outputs": [],
   "source": [
    "df_scene_pd.columns"
   ]
  },
  {
   "cell_type": "code",
   "execution_count": null,
   "id": "b5f39a58-580c-401b-a9d7-6d597724f5ff",
   "metadata": {},
   "outputs": [],
   "source": [
    "df_scene_pd.dtypes"
   ]
  },
  {
   "cell_type": "markdown",
   "id": "833cb991-6c1c-4041-a018-cda1ca21c62e",
   "metadata": {},
   "source": [
    "### Sample"
   ]
  },
  {
   "cell_type": "code",
   "execution_count": null,
   "id": "e24fe447-cead-45f3-aaf9-75b612d9b0e6",
   "metadata": {},
   "outputs": [],
   "source": [
    "df_sample_pd.head(3)"
   ]
  },
  {
   "cell_type": "code",
   "execution_count": null,
   "id": "092717a8-9e0e-4f84-8753-5650feb9c691",
   "metadata": {
    "scrolled": true
   },
   "outputs": [],
   "source": [
    "df_sample_pd.columns"
   ]
  },
  {
   "cell_type": "code",
   "execution_count": null,
   "id": "04390502-df2e-4a8a-b460-31ccefadca18",
   "metadata": {},
   "outputs": [],
   "source": [
    "df_sample_pd.dtypes"
   ]
  },
  {
   "cell_type": "code",
   "execution_count": null,
   "id": "d3832381-a562-448a-a56d-e2f215e9d763",
   "metadata": {},
   "outputs": [],
   "source": [
    "df_sample_pd = df_sample_pd[['token','timestamp','scene_token']]"
   ]
  },
  {
   "cell_type": "code",
   "execution_count": null,
   "id": "66ba1d04-5291-43a0-b012-e80b8b51874e",
   "metadata": {},
   "outputs": [],
   "source": [
    "df_sample_pd.head(5)"
   ]
  },
  {
   "cell_type": "code",
   "execution_count": null,
   "id": "1b5282e1-2427-445c-a371-bed59d349cab",
   "metadata": {},
   "outputs": [],
   "source": [
    "df_sample_pd.astype({'token':'string', \n",
    "                 'scene_token':'string',  \n",
    "                 'timestamp': 'datetime64[ns]'}, copy=False)"
   ]
  },
  {
   "cell_type": "code",
   "execution_count": null,
   "id": "da329fc9-b6e1-4e58-ac46-2dde9687f7e0",
   "metadata": {},
   "outputs": [],
   "source": [
    "df_sample_pd.columns"
   ]
  },
  {
   "cell_type": "code",
   "execution_count": null,
   "id": "b7cbfb82-7546-4616-b2d9-604691f72c7a",
   "metadata": {},
   "outputs": [],
   "source": [
    "df_sample_pd.dtypes"
   ]
  },
  {
   "cell_type": "code",
   "execution_count": null,
   "id": "e7029331-2922-4e11-a8ff-fd7c2f500b3d",
   "metadata": {},
   "outputs": [],
   "source": [
    "df_sample_pd.head(5)"
   ]
  },
  {
   "cell_type": "markdown",
   "id": "f4c64897-e2fa-4ed7-8a06-b6674ffd0c54",
   "metadata": {},
   "source": [
    "### Sample Data"
   ]
  },
  {
   "cell_type": "code",
   "execution_count": null,
   "id": "d3c45ce0-f95a-4622-acd1-831d986ae48d",
   "metadata": {},
   "outputs": [],
   "source": [
    "df_sample_data_pd.head(3)"
   ]
  },
  {
   "cell_type": "code",
   "execution_count": null,
   "id": "89435a6d-56f9-4c0e-9742-63ced2d12d31",
   "metadata": {},
   "outputs": [],
   "source": [
    "df_sample_data_pd['filename'][1]"
   ]
  },
  {
   "cell_type": "code",
   "execution_count": null,
   "id": "0b374a3c-530f-4a57-a26e-b70764833f63",
   "metadata": {
    "scrolled": true
   },
   "outputs": [],
   "source": [
    "df_sample_data_pd.columns"
   ]
  },
  {
   "cell_type": "code",
   "execution_count": null,
   "id": "fd39b80d-ea14-40fb-9997-794c256f520a",
   "metadata": {},
   "outputs": [],
   "source": [
    "df_sample_data_pd.dtypes"
   ]
  },
  {
   "cell_type": "code",
   "execution_count": null,
   "id": "b7ba1a65-256d-40d4-95ed-94dcc0673ce4",
   "metadata": {},
   "outputs": [],
   "source": [
    "df_sample_data_pd = df_sample_data_pd[['sample_token','timestamp', 'is_key_frame','ego_pose_token','filename']]"
   ]
  },
  {
   "cell_type": "code",
   "execution_count": null,
   "id": "b6c068be-86f8-4191-b81f-ec320fdbe9af",
   "metadata": {},
   "outputs": [],
   "source": [
    "df_sample_data_pd.rename(columns={'name':'scene_name',\n",
    "                                  'timestamp':'sample_data_timestamp',\n",
    "                                  'is_key_frame':'key_frame',\n",
    "                                 'filename':'record_file_name'}, inplace=True)"
   ]
  },
  {
   "cell_type": "code",
   "execution_count": null,
   "id": "a7487885-14b2-4adb-923b-8c1983eaa5a6",
   "metadata": {},
   "outputs": [],
   "source": [
    "df_sample_data_pd.astype({'sample_token':'string', \n",
    "                     'sample_data_timestamp': 'datetime64[ns]',\n",
    "                         'key_frame':'bool',\n",
    "                         'ego_pose_token':'string',\n",
    "                         'record_file_name':'string'}, copy=False)"
   ]
  },
  {
   "cell_type": "code",
   "execution_count": null,
   "id": "ab4060cb-aabc-4e30-b0e7-738d896568fa",
   "metadata": {},
   "outputs": [],
   "source": [
    "df_sample_data_pd.head(3)"
   ]
  },
  {
   "cell_type": "code",
   "execution_count": null,
   "id": "202dc768-e188-4333-92cf-6c6ca19b3fb9",
   "metadata": {},
   "outputs": [],
   "source": [
    "df_sample_data_pd.columns"
   ]
  },
  {
   "cell_type": "code",
   "execution_count": null,
   "id": "f02b707b-edaa-4cdd-8ffc-309dca6d1f90",
   "metadata": {},
   "outputs": [],
   "source": [
    "df_sample_data_pd.dtypes"
   ]
  },
  {
   "cell_type": "markdown",
   "id": "12d294e4-c00b-411e-828f-3c1205b68364",
   "metadata": {},
   "source": [
    "### Sample Annotation"
   ]
  },
  {
   "cell_type": "code",
   "execution_count": null,
   "id": "a4956fa2-4128-483c-b116-77fd66ba06b9",
   "metadata": {},
   "outputs": [],
   "source": [
    "df_sample_annotation_pd.head(3)"
   ]
  },
  {
   "cell_type": "code",
   "execution_count": null,
   "id": "781017f9-dcae-481a-94b2-80b245576c38",
   "metadata": {
    "scrolled": true
   },
   "outputs": [],
   "source": [
    "df_sample_annotation_pd.columns"
   ]
  },
  {
   "cell_type": "code",
   "execution_count": null,
   "id": "42310023-72f7-470b-bd59-67a525adea08",
   "metadata": {},
   "outputs": [],
   "source": [
    "df_sample_annotation_pd.dtypes"
   ]
  },
  {
   "cell_type": "code",
   "execution_count": null,
   "id": "0b832a69-b2f0-4227-9e81-3571375f7859",
   "metadata": {},
   "outputs": [],
   "source": [
    "df_sample_annotation_pd = df_sample_annotation_pd[['sample_token', 'instance_token', 'visibility_token','attribute_tokens']]"
   ]
  },
  {
   "cell_type": "code",
   "execution_count": null,
   "id": "6b865b8a-708f-472b-8566-73a6d96ab810",
   "metadata": {},
   "outputs": [],
   "source": [
    "df_sample_annotation_pd.rename(columns={'attribute_tokens':'attribute_token'}, inplace=True)"
   ]
  },
  {
   "cell_type": "code",
   "execution_count": null,
   "id": "4efc600c-3377-4e34-b341-b824d3d5e106",
   "metadata": {},
   "outputs": [],
   "source": [
    "df_sample_annotation_pd.astype({'sample_token':'string', \n",
    "                                'instance_token': 'string',\n",
    "                                'visibility_token':'int64',\n",
    "                                'attribute_token':'string'}, copy=False)"
   ]
  },
  {
   "cell_type": "code",
   "execution_count": null,
   "id": "d80fc4de-3ab9-497b-b975-5d6d93d16632",
   "metadata": {},
   "outputs": [],
   "source": [
    "df_sample_annotation_pd.head(3)"
   ]
  },
  {
   "cell_type": "code",
   "execution_count": null,
   "id": "821d4fc0-4cd9-493a-a5f8-7f52e1e76cc4",
   "metadata": {},
   "outputs": [],
   "source": [
    "df_sample_annotation_pd.columns"
   ]
  },
  {
   "cell_type": "code",
   "execution_count": null,
   "id": "178d7921-a60c-4af7-8fc9-1890b90a8475",
   "metadata": {},
   "outputs": [],
   "source": [
    "df_sample_annotation_pd.dtypes"
   ]
  },
  {
   "cell_type": "markdown",
   "id": "9456f778-d898-455e-9820-92d8e2a31a12",
   "metadata": {},
   "source": [
    "### Instance"
   ]
  },
  {
   "cell_type": "code",
   "execution_count": null,
   "id": "ebb82ecd-d7aa-4e75-82c5-78b595413031",
   "metadata": {},
   "outputs": [],
   "source": [
    "df_instance_pd.head(3)"
   ]
  },
  {
   "cell_type": "code",
   "execution_count": null,
   "id": "c1a7bf2c-8608-4e87-8eee-da20dfd35039",
   "metadata": {
    "scrolled": true
   },
   "outputs": [],
   "source": [
    "df_instance_pd.columns"
   ]
  },
  {
   "cell_type": "code",
   "execution_count": null,
   "id": "c593a410-3e5a-4cd3-b7d0-1c9d94e97baa",
   "metadata": {},
   "outputs": [],
   "source": [
    "df_instance_pd.dtypes"
   ]
  },
  {
   "cell_type": "code",
   "execution_count": null,
   "id": "c5a3a2c0-ba28-4552-94f7-be8274134afa",
   "metadata": {},
   "outputs": [],
   "source": [
    "df_instance_pd = df_instance_pd[['token', 'category_token', 'nbr_annotations']]"
   ]
  },
  {
   "cell_type": "code",
   "execution_count": null,
   "id": "9ebe9815-a46d-4ce1-85d1-51d8340ed0e3",
   "metadata": {},
   "outputs": [],
   "source": [
    "df_instance_pd.rename(columns={'nbr_annotations':'total_appearances'}, inplace=True)"
   ]
  },
  {
   "cell_type": "code",
   "execution_count": null,
   "id": "8061f0df-c935-47c6-994f-7c950a695db9",
   "metadata": {},
   "outputs": [],
   "source": [
    "df_instance_pd.astype({'token':'string', \n",
    "                       'category_token': 'string',\n",
    "                       'total_appearances':'int64'}, copy=False)"
   ]
  },
  {
   "cell_type": "code",
   "execution_count": null,
   "id": "b0200244-2e8f-4693-b8cd-716611e42d1e",
   "metadata": {},
   "outputs": [],
   "source": [
    "df_instance_pd.head(3)"
   ]
  },
  {
   "cell_type": "code",
   "execution_count": null,
   "id": "5c0ffa9e-a557-43cd-93b3-1ae57cfc73bf",
   "metadata": {},
   "outputs": [],
   "source": [
    "df_instance_pd.columns"
   ]
  },
  {
   "cell_type": "code",
   "execution_count": null,
   "id": "df56b220-41b3-4ab8-be92-837f5e0576fc",
   "metadata": {},
   "outputs": [],
   "source": [
    "df_instance_pd.dtypes"
   ]
  },
  {
   "cell_type": "code",
   "execution_count": null,
   "id": "12638a6a-c3ba-4799-adc8-6fdfa63116f4",
   "metadata": {},
   "outputs": [],
   "source": [
    "del df_log_pd\n",
    "del df_scene_pd\n",
    "del df_sample_pd\n",
    "del df_sample_data_pd\n",
    "del df_sample_annotation_pd\n",
    "del df_instance_pd"
   ]
  }
 ],
 "metadata": {
  "kernelspec": {
   "display_name": "Python 3 (ipykernel)",
   "language": "python",
   "name": "python3"
  },
  "language_info": {
   "codemirror_mode": {
    "name": "ipython",
    "version": 3
   },
   "file_extension": ".py",
   "mimetype": "text/x-python",
   "name": "python",
   "nbconvert_exporter": "python",
   "pygments_lexer": "ipython3",
   "version": "3.8.10"
  }
 },
 "nbformat": 4,
 "nbformat_minor": 5
}
